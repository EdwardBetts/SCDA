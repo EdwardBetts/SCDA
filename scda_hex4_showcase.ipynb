{
 "cells": [
  {
   "cell_type": "code",
   "execution_count": 46,
   "metadata": {
    "collapsed": false
   },
   "outputs": [],
   "source": [
    "import scda\n",
    "import pprint\n",
    "import logging\n",
    "import os\n",
    "scda.configure_log()"
   ]
  },
  {
   "cell_type": "markdown",
   "metadata": {},
   "source": [
    "# Prepare a single SCDA design"
   ]
  },
  {
   "cell_type": "markdown",
   "metadata": {},
   "source": [
    "## Set the design parameters"
   ]
  },
  {
   "cell_type": "code",
   "execution_count": 47,
   "metadata": {
    "collapsed": false
   },
   "outputs": [],
   "source": [
    "pupil_params = {'N': 300, 'pm':'hex4', 'sm':True, 'ss':'X', 'sst':'025'}\n",
    "fpm_params = {'rad': 4.}\n",
    "ls_params = {'shape':'ann', 'obscure':1, 'ppad':5, 'spad':5, 'id':25, 'od':90}\n",
    "image_params = {'c': 10., 'iwa':3.5, 'owa':7., 'bw':0.10, 'Nlam':3}"
   ]
  },
  {
   "cell_type": "code",
   "execution_count": 48,
   "metadata": {
    "collapsed": false
   },
   "outputs": [],
   "source": [
    "ampl_dir = \"./hex4_design_test/\" # where to write the AMPL source code\n",
    "if not os.path.exists(ampl_dir):\n",
    "    os.mkdir(ampl_dir)\n",
    "input_dir = \"/astro/opticslab1/SCDA/Apertures/STSCI/\" # location of input TelAp, FPM, and LS arrays"
   ]
  },
  {
   "cell_type": "code",
   "execution_count": 49,
   "metadata": {
    "collapsed": true
   },
   "outputs": [],
   "source": [
    "design_params = {'Pupil': pupil_params, 'FPM': fpm_params, 'LS': ls_params, 'Image': image_params}\n",
    "fileorg = {'work dir': ampl_dir, 'TelAp dir': input_dir, 'FPM dir': input_dir, 'LS dir': input_dir}\n",
    "#solver_params = {'method': 'barhom'}\n",
    "solver_params = {'method': 'bar'}"
   ]
  },
  {
   "cell_type": "markdown",
   "metadata": {},
   "source": [
    "## Initiate a coronagraph object with the above parameters "
   ]
  },
  {
   "cell_type": "code",
   "execution_count": 50,
   "metadata": {
    "collapsed": false
   },
   "outputs": [],
   "source": [
    "hexap_coron = scda.QuarterplaneAPLC(design=design_params, fileorg=fileorg, solver=solver_params)"
   ]
  },
  {
   "cell_type": "markdown",
   "metadata": {},
   "source": [
    "## Show the file organization for the coronagraph"
   ]
  },
  {
   "cell_type": "code",
   "execution_count": 51,
   "metadata": {
    "collapsed": false
   },
   "outputs": [
    {
     "data": {
      "text/plain": [
       "{'FPM dir': '/astro/opticslab1/SCDA/Apertures/STSCI',\n",
       " 'FPM fname': '/astro/opticslab1/SCDA/Apertures/STSCI/FPM_quart_occspot_M050.dat',\n",
       " 'LS dir': '/astro/opticslab1/SCDA/Apertures/STSCI',\n",
       " 'LS fname': '/astro/opticslab1/SCDA/Apertures/STSCI/LS_quart_ann25D90_X025sm1Pad05_N0300.dat',\n",
       " 'TelAp dir': '/astro/opticslab1/SCDA/Apertures/STSCI',\n",
       " 'TelAp fname': '/astro/opticslab1/SCDA/Apertures/STSCI/TelAp_quart_hex4X025sm1_N0300.dat',\n",
       " 'ampl src dir': '/Users/ntz/SCDA/scda_pytools/hex4_design_test',\n",
       " 'ampl src fname': '/Users/ntz/SCDA/scda_pytools/hex4_design_test/APLC_quart_hex4X025sm1_N0300_FPM400M050_LSann25D90X025sm1Pad05_Img100C_35WA070CA070_BW10Nlam03fpres2_linbarpre1.mod',\n",
       " 'eval dir': '/Users/ntz/SCDA/scda_pytools/hex4_design_test',\n",
       " 'sol dir': '/Users/ntz/SCDA/scda_pytools/hex4_design_test',\n",
       " 'sol fname': '/Users/ntz/SCDA/scda_pytools/hex4_design_test/ApodSol_APLC_quart_hex4X025sm1_N0300_FPM400M050_LSann25D90X025sm1Pad05_Img100C_35WA070CA070_BW10Nlam03fpres2_linbarpre1.dat',\n",
       " 'work dir': '/Users/ntz/SCDA/scda_pytools/hex4_design_test'}"
      ]
     },
     "execution_count": 51,
     "metadata": {},
     "output_type": "execute_result"
    }
   ],
   "source": [
    "hexap_coron.fileorg"
   ]
  },
  {
   "cell_type": "markdown",
   "metadata": {},
   "source": [
    "### Check the status of input files needed to run the AMPL program"
   ]
  },
  {
   "cell_type": "code",
   "execution_count": 52,
   "metadata": {
    "collapsed": false
   },
   "outputs": [
    {
     "data": {
      "text/plain": [
       "True"
      ]
     },
     "execution_count": 52,
     "metadata": {},
     "output_type": "execute_result"
    }
   ],
   "source": [
    "hexap_coron.check_ampl_input_files()"
   ]
  },
  {
   "cell_type": "markdown",
   "metadata": {},
   "source": [
    "## Write the AMPL source file"
   ]
  },
  {
   "cell_type": "code",
   "execution_count": 53,
   "metadata": {
    "collapsed": false,
    "scrolled": false
   },
   "outputs": [
    {
     "name": "stderr",
     "output_type": "stream",
     "text": [
      "INFO:root:Wrote /Users/ntz/SCDA/scda_pytools/hex4_design_test/APLC_quart_hex4X025sm1_N0300_FPM400M050_LSann25D90X025sm1Pad05_Img100C_35WA070CA070_BW10Nlam03fpres2_linbarpre1.mod\n"
     ]
    }
   ],
   "source": [
    "hexap_coron.write_ampl(override_infile_status=True, overwrite=True)"
   ]
  },
  {
   "cell_type": "code",
   "execution_count": null,
   "metadata": {
    "collapsed": true
   },
   "outputs": [],
   "source": []
  }
 ],
 "metadata": {
  "kernelspec": {
   "display_name": "Python 2",
   "language": "python",
   "name": "python2"
  },
  "language_info": {
   "codemirror_mode": {
    "name": "ipython",
    "version": 2
   },
   "file_extension": ".py",
   "mimetype": "text/x-python",
   "name": "python",
   "nbconvert_exporter": "python",
   "pygments_lexer": "ipython2",
   "version": "2.7.5"
  }
 },
 "nbformat": 4,
 "nbformat_minor": 0
}

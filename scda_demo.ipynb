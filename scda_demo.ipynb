{
 "cells": [
  {
   "cell_type": "code",
   "execution_count": 1,
   "metadata": {
    "collapsed": true
   },
   "outputs": [],
   "source": [
    "import scda\n",
    "import pprint"
   ]
  },
  {
   "cell_type": "markdown",
   "metadata": {},
   "source": [
    "# Demo 1: IrisAO APLC"
   ]
  },
  {
   "cell_type": "markdown",
   "metadata": {},
   "source": [
    "## Set some design parameters"
   ]
  },
  {
   "cell_type": "code",
   "execution_count": 2,
   "metadata": {
    "collapsed": true
   },
   "outputs": [],
   "source": [
    "pupil_params = {'N': 200}\n",
    "fpm_params = {'rad': 9.898/2, 'M':50}\n",
    "ls_params = {}\n",
    "image_params = {'c': 10., 'iwa':3.5, 'owa':10.}\n",
    "design_params = {'Pupil': pupil_params, 'FPM': fpm_params, 'LS': ls_params, 'Image': image_params}"
   ]
  },
  {
   "cell_type": "markdown",
   "metadata": {},
   "source": [
    "## file organization"
   ]
  },
  {
   "cell_type": "code",
   "execution_count": 3,
   "metadata": {
    "collapsed": true
   },
   "outputs": [],
   "source": [
    "test_dir = \"test_aplc_wrapper\" # a nominal destination for new AMPL programs\n",
    "aux_dir = \"~/SCDA/2d AMPL script - half pupil\" # location of input masks for AMPL program\n",
    "\n",
    "fileorg = {'work dir': test_dir, 'TelAp dir': aux_dir, 'FPM dir': aux_dir, 'LS dir': aux_dir, \\\n",
    "           'TelAp fname': \"IRISAO_N=0200_center_half_spiders3=01_gapID=10_BW.dat\", \\\n",
    "           'FPM fname': \"CircPupil_N=0050_obs=00_center_half.dat\", \\\n",
    "           'LS fname': \"IRISAO-0_N=0200_center_half_spiders3=02_ID=20_OD=098.dat\"}"
   ]
  },
  {
   "cell_type": "markdown",
   "metadata": {},
   "source": [
    "## Options for constraints and optimizer"
   ]
  },
  {
   "cell_type": "code",
   "execution_count": 4,
   "metadata": {
    "collapsed": true
   },
   "outputs": [],
   "source": [
    "solver_params = {'method': 'bar', 'presolve': False, 'Nthreads': 8}"
   ]
  },
  {
   "cell_type": "markdown",
   "metadata": {},
   "source": [
    "## Create a coronagraph design object, then write its AMPL source code file."
   ]
  },
  {
   "cell_type": "code",
   "execution_count": 5,
   "metadata": {
    "collapsed": false
   },
   "outputs": [
    {
     "name": "stderr",
     "output_type": "stream",
     "text": [
      "WARNING:scda.logger:Warning: Overwriting the existing copy of /Users/ntz/SCDA/scda_pytools/test_aplc_wrapper/test_aplc.mod\n"
     ]
    }
   ],
   "source": [
    "irisao_coron = scda.HalfplaneAPLC( fileorg=fileorg, design=design_params, solver=solver_params )\n",
    "irisao_coron.write_ampl(ampl_src_fname=\"test_aplc.mod\", overwrite=True)"
   ]
  },
  {
   "cell_type": "markdown",
   "metadata": {},
   "source": [
    "# Demo 2: SCDA paramater survey "
   ]
  },
  {
   "cell_type": "markdown",
   "metadata": {},
   "source": [
    "## Define a list of pupil parameters to survey\n",
    "Parameters selected here are the primary mirror (pm), support struts (ss), secondary strut thickness (sst), secondary obstruction (so).\n",
    "The last parameter, 'N' = pupil array diameter, has only one value and therefore is fixed for all designs. "
   ]
  },
  {
   "cell_type": "code",
   "execution_count": 6,
   "metadata": {
    "collapsed": true
   },
   "outputs": [],
   "source": [
    "jpl_telap_all = {'Pupil': { 'pm': ['hex1', 'hex2', 'hex3', 'key24', 'pie12', 'pie08'],\n",
    "                            'ss': ['Y60d','Yoff60d','X','Cross','T','Y90d'],\n",
    "                            'sst': ['025','100'],\n",
    "                            'sm': [True, False],\n",
    "                            'N': 250 } }"
   ]
  },
  {
   "cell_type": "code",
   "execution_count": 7,
   "metadata": {
    "collapsed": true
   },
   "outputs": [],
   "source": [
    "survey_ampl_dir = \"./ampl_survey_test/\" # where to write the AMPL source code"
   ]
  },
  {
   "cell_type": "markdown",
   "metadata": {},
   "source": [
    "## Initiate a design parameter survey object with the above parameter combinations "
   ]
  },
  {
   "cell_type": "code",
   "execution_count": 8,
   "metadata": {
    "collapsed": false
   },
   "outputs": [
    {
     "name": "stdout",
     "output_type": "stream",
     "text": [
      "This survey has 144 design parameter combinations.\n",
      "4 parameters are varied: (('Pupil', 'pm'), ('Pupil', 'ss'), ('Pupil', 'sst'), ('Pupil', 'sm'))\n"
     ]
    }
   ],
   "source": [
    "telap_survey = scda.DesignParamSurvey(scda.HalfplaneAPLC, jpl_telap_all, fileorg={'ampl src dir':survey_ampl_dir})\n",
    "print(\"This survey has {0:d} design parameter combinations.\".format(len(telap_survey.coron_list)))\n",
    "print(\"{0:d} parameters are varied: {1}\".format(len(telap_survey.varied_param_index), telap_survey.varied_param_index))"
   ]
  },
  {
   "cell_type": "markdown",
   "metadata": {},
   "source": [
    "## Print some attributes of an individual coronagraph object"
   ]
  },
  {
   "cell_type": "code",
   "execution_count": 9,
   "metadata": {
    "collapsed": false
   },
   "outputs": [
    {
     "name": "stdout",
     "output_type": "stream",
     "text": [
      "Telescope aperture file for design #51: /Users/ntz/SCDA/scda_pytools/TelAp_half_hex3Y60dt100so1_N0250.dat\n",
      "Focal plane mask file for design #51: /Users/ntz/SCDA/scda_pytools/FPM_occspot_M050.dat\n",
      "Lyot stop file for design #51: /Users/ntz/SCDA/scda_pytools/LS_half_hex3Y60dt100so1_N0250_20D90ovsz00.dat\n"
     ]
    }
   ],
   "source": [
    "i = 50\n",
    "print(\"Telescope aperture file for design #{:d}: {:s}\".format(i+1, telap_survey.coron_list[i].fileorg['TelAp fname']))\n",
    "print(\"Focal plane mask file for design #{:d}: {:s}\".format(i+1, telap_survey.coron_list[i].fileorg['FPM fname']))\n",
    "print(\"Lyot stop file for design #{:d}: {:s}\".format(i+1, telap_survey.coron_list[i].fileorg['LS fname']))"
   ]
  },
  {
   "cell_type": "markdown",
   "metadata": {},
   "source": [
    "## List the varying parameter combinations"
   ]
  },
  {
   "cell_type": "code",
   "execution_count": 10,
   "metadata": {
    "collapsed": false
   },
   "outputs": [
    {
     "name": "stdout",
     "output_type": "stream",
     "text": [
      "(('hex1', 'Y60d', '025', True),\n",
      " ('hex1', 'Y60d', '025', False),\n",
      " ('hex1', 'Y60d', '100', True),\n",
      " ('hex1', 'Y60d', '100', False),\n",
      " ('hex1', 'Yoff60d', '025', True),\n",
      " ('hex1', 'Yoff60d', '025', False),\n",
      " ('hex1', 'Yoff60d', '100', True),\n",
      " ('hex1', 'Yoff60d', '100', False),\n",
      " ('hex1', 'X', '025', True),\n",
      " ('hex1', 'X', '025', False),\n",
      " ('hex1', 'X', '100', True),\n",
      " ('hex1', 'X', '100', False),\n",
      " ('hex1', 'Cross', '025', True),\n",
      " ('hex1', 'Cross', '025', False),\n",
      " ('hex1', 'Cross', '100', True),\n",
      " ('hex1', 'Cross', '100', False),\n",
      " ('hex1', 'T', '025', True),\n",
      " ('hex1', 'T', '025', False),\n",
      " ('hex1', 'T', '100', True),\n",
      " ('hex1', 'T', '100', False),\n",
      " ('hex1', 'Y90d', '025', True),\n",
      " ('hex1', 'Y90d', '025', False),\n",
      " ('hex1', 'Y90d', '100', True),\n",
      " ('hex1', 'Y90d', '100', False),\n",
      " ('hex2', 'Y60d', '025', True),\n",
      " ('hex2', 'Y60d', '025', False),\n",
      " ('hex2', 'Y60d', '100', True),\n",
      " ('hex2', 'Y60d', '100', False),\n",
      " ('hex2', 'Yoff60d', '025', True),\n",
      " ('hex2', 'Yoff60d', '025', False),\n",
      " ('hex2', 'Yoff60d', '100', True),\n",
      " ('hex2', 'Yoff60d', '100', False),\n",
      " ('hex2', 'X', '025', True),\n",
      " ('hex2', 'X', '025', False),\n",
      " ('hex2', 'X', '100', True),\n",
      " ('hex2', 'X', '100', False),\n",
      " ('hex2', 'Cross', '025', True),\n",
      " ('hex2', 'Cross', '025', False),\n",
      " ('hex2', 'Cross', '100', True),\n",
      " ('hex2', 'Cross', '100', False),\n",
      " ('hex2', 'T', '025', True),\n",
      " ('hex2', 'T', '025', False),\n",
      " ('hex2', 'T', '100', True),\n",
      " ('hex2', 'T', '100', False),\n",
      " ('hex2', 'Y90d', '025', True),\n",
      " ('hex2', 'Y90d', '025', False),\n",
      " ('hex2', 'Y90d', '100', True),\n",
      " ('hex2', 'Y90d', '100', False),\n",
      " ('hex3', 'Y60d', '025', True),\n",
      " ('hex3', 'Y60d', '025', False),\n",
      " ('hex3', 'Y60d', '100', True),\n",
      " ('hex3', 'Y60d', '100', False),\n",
      " ('hex3', 'Yoff60d', '025', True),\n",
      " ('hex3', 'Yoff60d', '025', False),\n",
      " ('hex3', 'Yoff60d', '100', True),\n",
      " ('hex3', 'Yoff60d', '100', False),\n",
      " ('hex3', 'X', '025', True),\n",
      " ('hex3', 'X', '025', False),\n",
      " ('hex3', 'X', '100', True),\n",
      " ('hex3', 'X', '100', False),\n",
      " ('hex3', 'Cross', '025', True),\n",
      " ('hex3', 'Cross', '025', False),\n",
      " ('hex3', 'Cross', '100', True),\n",
      " ('hex3', 'Cross', '100', False),\n",
      " ('hex3', 'T', '025', True),\n",
      " ('hex3', 'T', '025', False),\n",
      " ('hex3', 'T', '100', True),\n",
      " ('hex3', 'T', '100', False),\n",
      " ('hex3', 'Y90d', '025', True),\n",
      " ('hex3', 'Y90d', '025', False),\n",
      " ('hex3', 'Y90d', '100', True),\n",
      " ('hex3', 'Y90d', '100', False),\n",
      " ('key24', 'Y60d', '025', True),\n",
      " ('key24', 'Y60d', '025', False),\n",
      " ('key24', 'Y60d', '100', True),\n",
      " ('key24', 'Y60d', '100', False),\n",
      " ('key24', 'Yoff60d', '025', True),\n",
      " ('key24', 'Yoff60d', '025', False),\n",
      " ('key24', 'Yoff60d', '100', True),\n",
      " ('key24', 'Yoff60d', '100', False),\n",
      " ('key24', 'X', '025', True),\n",
      " ('key24', 'X', '025', False),\n",
      " ('key24', 'X', '100', True),\n",
      " ('key24', 'X', '100', False),\n",
      " ('key24', 'Cross', '025', True),\n",
      " ('key24', 'Cross', '025', False),\n",
      " ('key24', 'Cross', '100', True),\n",
      " ('key24', 'Cross', '100', False),\n",
      " ('key24', 'T', '025', True),\n",
      " ('key24', 'T', '025', False),\n",
      " ('key24', 'T', '100', True),\n",
      " ('key24', 'T', '100', False),\n",
      " ('key24', 'Y90d', '025', True),\n",
      " ('key24', 'Y90d', '025', False),\n",
      " ('key24', 'Y90d', '100', True),\n",
      " ('key24', 'Y90d', '100', False),\n",
      " ('pie12', 'Y60d', '025', True),\n",
      " ('pie12', 'Y60d', '025', False),\n",
      " ('pie12', 'Y60d', '100', True),\n",
      " ('pie12', 'Y60d', '100', False),\n",
      " ('pie12', 'Yoff60d', '025', True),\n",
      " ('pie12', 'Yoff60d', '025', False),\n",
      " ('pie12', 'Yoff60d', '100', True),\n",
      " ('pie12', 'Yoff60d', '100', False),\n",
      " ('pie12', 'X', '025', True),\n",
      " ('pie12', 'X', '025', False),\n",
      " ('pie12', 'X', '100', True),\n",
      " ('pie12', 'X', '100', False),\n",
      " ('pie12', 'Cross', '025', True),\n",
      " ('pie12', 'Cross', '025', False),\n",
      " ('pie12', 'Cross', '100', True),\n",
      " ('pie12', 'Cross', '100', False),\n",
      " ('pie12', 'T', '025', True),\n",
      " ('pie12', 'T', '025', False),\n",
      " ('pie12', 'T', '100', True),\n",
      " ('pie12', 'T', '100', False),\n",
      " ('pie12', 'Y90d', '025', True),\n",
      " ('pie12', 'Y90d', '025', False),\n",
      " ('pie12', 'Y90d', '100', True),\n",
      " ('pie12', 'Y90d', '100', False),\n",
      " ('pie08', 'Y60d', '025', True),\n",
      " ('pie08', 'Y60d', '025', False),\n",
      " ('pie08', 'Y60d', '100', True),\n",
      " ('pie08', 'Y60d', '100', False),\n",
      " ('pie08', 'Yoff60d', '025', True),\n",
      " ('pie08', 'Yoff60d', '025', False),\n",
      " ('pie08', 'Yoff60d', '100', True),\n",
      " ('pie08', 'Yoff60d', '100', False),\n",
      " ('pie08', 'X', '025', True),\n",
      " ('pie08', 'X', '025', False),\n",
      " ('pie08', 'X', '100', True),\n",
      " ('pie08', 'X', '100', False),\n",
      " ('pie08', 'Cross', '025', True),\n",
      " ('pie08', 'Cross', '025', False),\n",
      " ('pie08', 'Cross', '100', True),\n",
      " ('pie08', 'Cross', '100', False),\n",
      " ('pie08', 'T', '025', True),\n",
      " ('pie08', 'T', '025', False),\n",
      " ('pie08', 'T', '100', True),\n",
      " ('pie08', 'T', '100', False),\n",
      " ('pie08', 'Y90d', '025', True),\n",
      " ('pie08', 'Y90d', '025', False),\n",
      " ('pie08', 'Y90d', '100', True),\n",
      " ('pie08', 'Y90d', '100', False))\n"
     ]
    }
   ],
   "source": [
    "pprint.pprint(telap_survey.varied_param_combos)"
   ]
  },
  {
   "cell_type": "markdown",
   "metadata": {},
   "source": [
    "## Write the batch of AMPL files"
   ]
  },
  {
   "cell_type": "code",
   "execution_count": 11,
   "metadata": {
    "collapsed": false
   },
   "outputs": [],
   "source": [
    "telap_survey.write_ampl(override_infile_status=True, overwrite=True)"
   ]
  },
  {
   "cell_type": "code",
   "execution_count": null,
   "metadata": {
    "collapsed": true
   },
   "outputs": [],
   "source": []
  }
 ],
 "metadata": {
  "kernelspec": {
   "display_name": "Python 2",
   "language": "python",
   "name": "python2"
  },
  "language_info": {
   "codemirror_mode": {
    "name": "ipython",
    "version": 2
   },
   "file_extension": ".py",
   "mimetype": "text/x-python",
   "name": "python",
   "nbconvert_exporter": "python",
   "pygments_lexer": "ipython2",
   "version": "2.7.5"
  }
 },
 "nbformat": 4,
 "nbformat_minor": 0
}

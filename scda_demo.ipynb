{
 "cells": [
  {
   "cell_type": "code",
   "execution_count": null,
   "metadata": {
    "collapsed": true
   },
   "outputs": [],
   "source": [
    "import scda\n",
    "import pprint"
   ]
  },
  {
   "cell_type": "markdown",
   "metadata": {},
   "source": [
    "# Demo 1: IrisAO APLC"
   ]
  },
  {
   "cell_type": "markdown",
   "metadata": {},
   "source": [
    "## Set some design parameters"
   ]
  },
  {
   "cell_type": "code",
   "execution_count": null,
   "metadata": {
    "collapsed": true
   },
   "outputs": [],
   "source": [
    "pupil_params = {'N': 200}\n",
    "fpm_params = {'rad': 9.898/2, 'M':50}\n",
    "ls_params = {}\n",
    "image_params = {'c': 10., 'iwa':3.5, 'owa':10.}\n",
    "design_params = {'Pupil': pupil_params, 'FPM': fpm_params, 'LS': ls_params, 'Image': image_params}"
   ]
  },
  {
   "cell_type": "markdown",
   "metadata": {},
   "source": [
    "## file organization"
   ]
  },
  {
   "cell_type": "code",
   "execution_count": null,
   "metadata": {
    "collapsed": true
   },
   "outputs": [],
   "source": [
    "test_dir = \"test_aplc_wrapper\" # a nominal destination for new AMPL programs\n",
    "aux_dir = \"~/STScI/SCDA/2d AMPL script - half pupil\" # location of input masks for AMPL program\n",
    "\n",
    "fileorg = {'work dir': test_dir, 'TelAp dir': aux_dir, 'FPM dir': aux_dir, 'LS dir': aux_dir, \\\n",
    "           'TelAp fname': \"IRISAO_N=0200_center_half_spiders3=01_gapID=10_BW.dat\", \\\n",
    "           'FPM fname': \"CircPupil_N=0050_obs=00_center_half.dat\", \\\n",
    "           'LS fname': \"IRISAO-0_N=0200_center_half_spiders3=02_ID=20_OD=098.dat\"}"
   ]
  },
  {
   "cell_type": "markdown",
   "metadata": {},
   "source": [
    "## Options for constraints and optimizer"
   ]
  },
  {
   "cell_type": "code",
   "execution_count": null,
   "metadata": {
    "collapsed": true
   },
   "outputs": [],
   "source": [
    "solver_params = {'method': 'bar', 'presolve': False, 'Nthreads': 8}"
   ]
  },
  {
   "cell_type": "markdown",
   "metadata": {},
   "source": [
    "## Create a coronagraph design object, then write its AMPL source code file."
   ]
  },
  {
   "cell_type": "code",
   "execution_count": null,
   "metadata": {
    "collapsed": false
   },
   "outputs": [],
   "source": [
    "irisao_coron = scda.HalfplaneAPLC( fileorg=fileorg, design=design_params, solver=solver_params )\n",
    "irisao_coron.write_ampl(ampl_src_fname=\"test_aplc.mod\", overwrite=True)"
   ]
  },
  {
   "cell_type": "markdown",
   "metadata": {},
   "source": [
    "# Demo 2: SCDA paramater survey "
   ]
  },
  {
   "cell_type": "markdown",
   "metadata": {},
   "source": [
    "## Define a list of pupil parameters to survey\n",
    "Parameters selected here are the primary mirror (pm), support struts (ss), secondary strut thickness (sst), secondary obstruction (so).\n",
    "The last parameter, 'N' = pupil array diameter, has only one value and therefore is fixed for all designs. "
   ]
  },
  {
   "cell_type": "code",
   "execution_count": null,
   "metadata": {
    "collapsed": true
   },
   "outputs": [],
   "source": [
    "jpl_telap_all = {'Pupil': { 'pm': ['hex1', 'hex2', 'hex3', 'key24', 'pie12', 'pie8'],\n",
    "                            'ss': ['y60','y60off','x','cross','t','y90'],\n",
    "                            'sst': ['025','100'],\n",
    "                            'so': [True, False],\n",
    "                            'N': 125 } }"
   ]
  },
  {
   "cell_type": "code",
   "execution_count": null,
   "metadata": {
    "collapsed": true
   },
   "outputs": [],
   "source": [
    "survey_ampl_dir = \"./ampl_survey_test/\" # where to write the AMPL source code"
   ]
  },
  {
   "cell_type": "markdown",
   "metadata": {},
   "source": [
    "## Initiate a design parameter survey object with the above parameter combinations "
   ]
  },
  {
   "cell_type": "code",
   "execution_count": null,
   "metadata": {
    "collapsed": false
   },
   "outputs": [],
   "source": [
    "telap_survey = scda.DesignParamSurvey(scda.HalfplaneAPLC, jpl_telap_all, fileorg={'ampl src dir':survey_ampl_dir})\n",
    "print(\"This survey has {0:d} design parameter combinations.\".format(len(telap_survey.coron_list)))\n",
    "print(\"{0:d} parameters are varied: {1}\".format(len(telap_survey.varied_param_index), telap_survey.varied_param_index))"
   ]
  },
  {
   "cell_type": "markdown",
   "metadata": {},
   "source": [
    "## Print some attributes of an individual coronagraph object"
   ]
  },
  {
   "cell_type": "code",
   "execution_count": null,
   "metadata": {
    "collapsed": false
   },
   "outputs": [],
   "source": [
    "i = 50\n",
    "print(\"Telescope aperture file for design #{:d}: {:s}\".format(i+1, telap_survey.coron_list[i].fileorg['TelAp fname']))\n",
    "print(\"Focal plane mask file for design #{:d}: {:s}\".format(i+1, telap_survey.coron_list[i].fileorg['FPM fname']))\n",
    "print(\"Lyot stop file for design #{:d}: {:s}\".format(i+1, telap_survey.coron_list[i].fileorg['LS fname']))"
   ]
  },
  {
   "cell_type": "markdown",
   "metadata": {},
   "source": [
    "## List the varying parameter combinations"
   ]
  },
  {
   "cell_type": "code",
   "execution_count": null,
   "metadata": {
    "collapsed": false
   },
   "outputs": [],
   "source": [
    "pprint.pprint(telap_survey.varied_param_combos)"
   ]
  },
  {
   "cell_type": "markdown",
   "metadata": {},
   "source": [
    "## Write the batch of AMPL files"
   ]
  },
  {
   "cell_type": "code",
   "execution_count": null,
   "metadata": {
    "collapsed": false
   },
   "outputs": [],
   "source": [
    "telap_survey.write_ampl(override_infile_status=True, overwrite=True)"
   ]
  },
  {
   "cell_type": "code",
   "execution_count": null,
   "metadata": {
    "collapsed": true
   },
   "outputs": [],
   "source": []
  }
 ],
 "metadata": {
  "kernelspec": {
   "display_name": "Python 2",
   "language": "python",
   "name": "python2"
  },
  "language_info": {
   "codemirror_mode": {
    "name": "ipython",
    "version": 2
   },
   "file_extension": ".py",
   "mimetype": "text/x-python",
   "name": "python",
   "nbconvert_exporter": "python",
   "pygments_lexer": "ipython2",
   "version": "2.7.5"
  }
 },
 "nbformat": 4,
 "nbformat_minor": 0
}

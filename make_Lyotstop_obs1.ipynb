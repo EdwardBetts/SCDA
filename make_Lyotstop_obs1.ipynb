{
 "cells": [
  {
   "cell_type": "code",
   "execution_count": 360,
   "metadata": {
    "collapsed": false
   },
   "outputs": [
    {
     "name": "stdout",
     "output_type": "stream",
     "text": [
      "Populating the interactive namespace from numpy and matplotlib\n"
     ]
    }
   ],
   "source": [
    "import numpy as np\n",
    "import skimage.transform\n",
    "import astropy.io.fits as fits\n",
    "import matplotlib.pyplot as plt\n",
    "import os\n",
    "%pylab inline --no-import-all\n",
    "matplotlib.rcParams['image.origin'] = 'lower'\n",
    "matplotlib.rcParams['image.interpolation'] = 'nearest' \n",
    "matplotlib.rcParams['image.cmap'] = 'gray'"
   ]
  },
  {
   "cell_type": "markdown",
   "metadata": {},
   "source": [
    "## Dictionary to map file keys from STScI to Krist"
   ]
  },
  {
   "cell_type": "code",
   "execution_count": 361,
   "metadata": {
    "collapsed": true
   },
   "outputs": [],
   "source": [
    "telap_key_map = {'hex1':'hex1', 'hex2':'hex2', 'hex3':'hex3', 'hex4':'hex4',\n",
    "                 'key24':'keystone24', 'pie08':'piewedge8', 'pie12':'piewedge12'}\n",
    "secobs_key_map = {'Cross':'cross', 'X':'x'}"
   ]
  },
  {
   "cell_type": "markdown",
   "metadata": {},
   "source": [
    "## Set basic parameters"
   ]
  },
  {
   "cell_type": "code",
   "execution_count": 390,
   "metadata": {
    "collapsed": true
   },
   "outputs": [],
   "source": [
    "N = 125 # pupil array quadrant width after binning\n",
    "iD = 25\n",
    "oD = 80\n",
    "spad = 10\n",
    "aligntol = 5\n",
    "#prim_key = \"hex1\"\n",
    "secobs_key = \"X\"\n",
    "centobs = True\n",
    "D = 1000 # starting aperture diameter"
   ]
  },
  {
   "cell_type": "code",
   "execution_count": 392,
   "metadata": {
    "collapsed": false
   },
   "outputs": [
    {
     "name": "stdout",
     "output_type": "stream",
     "text": [
      "Destination /astro/opticslab1/SCDA/Apertures/InputMasks/LS already exists\n"
     ]
    }
   ],
   "source": [
    "#LS_dir = os.path.abspath(\"../InputMasks/LS\")\n",
    "LS_dir = os.path.abspath(\"/astro/opticslab1/SCDA/Apertures/InputMasks/LS\")\n",
    "if not os.path.exists(LS_dir):\n",
    "    os.mkdir(LS_dir)\n",
    "    print(\"created {:s} for LS arrays\".format(LS_dir))\n",
    "else:\n",
    "    print(\"Destination {:s} already exists\".format(LS_dir))"
   ]
  },
  {
   "cell_type": "markdown",
   "metadata": {},
   "source": [
    "## Load secondary obscuration"
   ]
  },
  {
   "cell_type": "code",
   "execution_count": 393,
   "metadata": {
    "collapsed": false
   },
   "outputs": [],
   "source": [
    "#telap_dir = os.path.abspath('../Apertures/JPL/offset_masks')\n",
    "telap_dir = os.path.abspath('/astro/opticslab1/SCDA/Apertures/JPL/offset_masks')\n",
    "if centobs is True:\n",
    "#    telap_fname = os.path.join(telap_dir, \"{0:s}_{1:04d}pix_offset.fits\".format(\n",
    "#                                           telap_key_map[prim_key], D))\n",
    "    secobs_fname = os.path.join(telap_dir, \"{0:s}_spiders_{1:04d}pix_2.5cm_offset.fits\".format(\n",
    "                                            secobs_key_map[secobs_key], D))\n",
    "else:\n",
    "#    telap_fname = os.path.join(telap_dir, \"{0:s}_{1:04d}pix_offset_no_central_obsc.fits\".format(\n",
    "#                                           telap_key_map[prim_key], D))\n",
    "    secobs_fname = os.path.join(telap_dir, \"{0:s}_spiders_{1:04d}pix_2.5cm_offset.fits\".format(\n",
    "                                            secobs_key_map[secobs_key], D))\n",
    "#telap_hdulist = fits.open(telap_fname, \"readonly\")\n",
    "#telap_orig = telap_hdulist[0].data\n",
    "#telap_hdulist.close()\n",
    "secobs_hdulist = fits.open(secobs_fname, \"readonly\")\n",
    "secobs = secobs_hdulist[0].data\n",
    "secobs_hdulist.close()\n",
    "obstelap = secobs"
   ]
  },
  {
   "cell_type": "code",
   "execution_count": 394,
   "metadata": {
    "collapsed": false
   },
   "outputs": [
    {
     "data": {
      "text/plain": [
       "<matplotlib.image.AxesImage at 0x141f76b10>"
      ]
     },
     "execution_count": 394,
     "metadata": {},
     "output_type": "execute_result"
    },
    {
     "data": {
      "image/png": "[encoded data removed]",
      "text/plain": [
       "<matplotlib.figure.Figure at 0x144dd1fd0>"
      ]
     },
     "metadata": {},
     "output_type": "display_data"
    }
   ],
   "source": [
    "plt.figure(figsize=(10,10))\n",
    "plt.imshow(secobs)"
   ]
  },
  {
   "cell_type": "markdown",
   "metadata": {},
   "source": [
    "## Pad the secondary obscuration"
   ]
  },
  {
   "cell_type": "code",
   "execution_count": 395,
   "metadata": {
    "collapsed": false
   },
   "outputs": [
    {
     "data": {
      "text/plain": [
       "317"
      ]
     },
     "execution_count": 395,
     "metadata": {},
     "output_type": "execute_result"
    }
   ],
   "source": [
    "spad_fac = float(spad)/1000\n",
    "max_shift = int(round(D*spad_fac))\n",
    "shift_range = range(-max_shift,max_shift+1,1)\n",
    "[Xshifts, Yshifts] = np.meshgrid(shift_range, shift_range)\n",
    "allowed_shifts = np.less_equal(Xshifts**2 + Yshifts**2, max_shift**2)\n",
    "XYshifts_allowed = zip(Xshifts[allowed_shifts], Yshifts[allowed_shifts])\n",
    "len(XYshifts_allowed)"
   ]
  },
  {
   "cell_type": "code",
   "execution_count": 396,
   "metadata": {
    "collapsed": false
   },
   "outputs": [],
   "source": [
    "padded_secobs_accum = np.ones(secobs.shape)\n",
    "for (xshift,yshift) in XYshifts_allowed:\n",
    "    secobs_shifted = np.roll(np.roll(secobs, yshift, 0), xshift, 1) \n",
    "    padded_secobs_accum *= secobs_shifted"
   ]
  },
  {
   "cell_type": "code",
   "execution_count": 397,
   "metadata": {
    "collapsed": false
   },
   "outputs": [],
   "source": [
    "#plt.figure(figsize=(10,10))\n",
    "#plt.imshow(padded_secobs_accum)"
   ]
  },
  {
   "cell_type": "markdown",
   "metadata": {},
   "source": [
    "## Combine with annular stop"
   ]
  },
  {
   "cell_type": "code",
   "execution_count": 398,
   "metadata": {
    "collapsed": false
   },
   "outputs": [],
   "source": [
    "L = secobs.shape[0]\n",
    "inD = float(iD)/100\n",
    "outD = float(oD)/100\n",
    "xs = np.linspace(-L/2 + 0.5, L/2 - 0.5, L)\n",
    "[Xs, Ys] = np.meshgrid(xs, xs)\n",
    "inside_ann = np.less_equal(Xs**2 + Ys**2, (inD*D/2)**2)\n",
    "outside_ann = np.greater_equal(Xs**2 + Ys**2, (outD*D/2)**2)\n",
    "Lyot_stop = np.round(padded_secobs_accum)\n",
    "Lyot_stop[inside_ann] = 0.\n",
    "Lyot_stop[outside_ann] = 0."
   ]
  },
  {
   "cell_type": "code",
   "execution_count": 399,
   "metadata": {
    "collapsed": false
   },
   "outputs": [
    {
     "data": {
      "text/plain": [
       "<matplotlib.image.AxesImage at 0x141f8bdd0>"
      ]
     },
     "execution_count": 399,
     "metadata": {},
     "output_type": "execute_result"
    },
    {
     "data": {
      "image/png": "[encoded data removed]",
      "text/plain": [
       "<matplotlib.figure.Figure at 0x141142f50>"
      ]
     },
     "metadata": {},
     "output_type": "display_data"
    }
   ],
   "source": [
    "plt.figure(figsize=(12,12))\n",
    "plt.imshow(Lyot_stop)"
   ]
  },
  {
   "cell_type": "markdown",
   "metadata": {},
   "source": [
    "## Bin to final array resolution, crop"
   ]
  },
  {
   "cell_type": "code",
   "execution_count": 400,
   "metadata": {
    "collapsed": false
   },
   "outputs": [],
   "source": [
    "#scalefac = float(N)/(D/2)\n",
    "#Lyot_stop_binned = skimage.transform.rescale(Lyot_stop, scalefac, order=1)"
   ]
  },
  {
   "cell_type": "code",
   "execution_count": 401,
   "metadata": {
    "collapsed": false
   },
   "outputs": [
    {
     "name": "stdout",
     "output_type": "stream",
     "text": [
      "Binning the original aperture array 4x\n"
     ]
    }
   ],
   "source": [
    "N_orig = D/2\n",
    "scalefac = int(N_orig/N)\n",
    "print(\"Binning the original aperture array {0:d}x\".format(scalefac))\n",
    "Lyot_stop_binned = np.reshape(Lyot_stop, (Lyot_stop.shape[0]/scalefac, scalefac, \n",
    "                                          Lyot_stop.shape[1]/scalefac, scalefac)).mean(1).mean(2)"
   ]
  },
  {
   "cell_type": "code",
   "execution_count": 402,
   "metadata": {
    "collapsed": false
   },
   "outputs": [
    {
     "data": {
      "text/plain": [
       "(125, 125)"
      ]
     },
     "execution_count": 402,
     "metadata": {},
     "output_type": "execute_result"
    }
   ],
   "source": [
    "L_bin = Lyot_stop_binned.shape[0]\n",
    "Lyot_stop_binned_quad = Lyot_stop_binned[L_bin/2:L_bin/2+N,L_bin/2:L_bin/2+N]\n",
    "Lyot_stop_binned_quad_binary = np.round(Lyot_stop_binned_quad).astype(int)\n",
    "Lyot_stop_binned_quad.shape"
   ]
  },
  {
   "cell_type": "code",
   "execution_count": 403,
   "metadata": {
    "collapsed": false
   },
   "outputs": [
    {
     "data": {
      "text/plain": [
       "<matplotlib.image.AxesImage at 0x1429a6f10>"
      ]
     },
     "execution_count": 403,
     "metadata": {},
     "output_type": "execute_result"
    },
    {
     "data": {
      "image/png": "[encoded data removed]",
      "text/plain": [
       "<matplotlib.figure.Figure at 0x141fb0650>"
      ]
     },
     "metadata": {},
     "output_type": "display_data"
    }
   ],
   "source": [
    "plt.figure(figsize=(10,10))\n",
    "plt.imshow(Lyot_stop_binned_quad_binary)\n",
    "#plt.imshow(np.floor(Lyot_stop_binned_quad))"
   ]
  },
  {
   "cell_type": "markdown",
   "metadata": {},
   "source": [
    "## Write the binned, cropped Lyot stop to a dat (ASCII) file "
   ]
  },
  {
   "cell_type": "code",
   "execution_count": 414,
   "metadata": {
    "collapsed": false
   },
   "outputs": [
    {
     "name": "stdout",
     "output_type": "stream",
     "text": [
      "Wrote binned, cropped LS array to /astro/opticslab1/SCDA/Apertures/InputMasks/LS/LS_quart_ann25D80_X025cobs1Pad10_N0125.dat\n"
     ]
    }
   ],
   "source": [
    "if centobs is True:\n",
    "    LS_quart_dat_fname_tail = \"LS_quart_ann{0:02d}D{1:02d}_{2:s}025cobs1Pad{3:02d}_N{4:04d}.dat\".format(\n",
    "                               int(round(100*inD)), int(round(100*outD)), secobs_key, spad, N)\n",
    "else:\n",
    "    LS_quart_dat_fname_tail = \"LS_quart_ann{0:02d}D{1:02d}_{2:s}025cobs0Pad{3:02d}_N{4:04d}.dat\".format(\n",
    "                               int(round(100*inD)), int(round(100*outD)), secobs_key, spad, N)\n",
    "    \n",
    "LS_quart_dat_fname = os.path.join(LS_dir, LS_quart_dat_fname_tail)\n",
    "#np.savetxt(LS_quart_dat_fname, Lyot_stop_binned_quad, fmt='%.6f', delimiter=\" \")\n",
    "np.savetxt(LS_quart_dat_fname, Lyot_stop_binned_quad_binary, fmt='%d', delimiter=\" \")\n",
    "print(\"Wrote binned, cropped LS array to {0:s}\".format(LS_quart_dat_fname))"
   ]
  },
  {
   "cell_type": "code",
   "execution_count": 415,
   "metadata": {
    "collapsed": false
   },
   "outputs": [
    {
     "data": {
      "text/plain": [
       "['LS_quart_ann25D85_X025cobs1Pad05_N0250.dat',\n",
       " 'LDZ_quart_ann25D85_X025cobs1Pad05_tol02_N0250.dat',\n",
       " 'LS_quart_ann20D85_X025cobs1Pad05_N0250.dat',\n",
       " 'LS_quart_ann20D85_X025cobs1Pad10_N0250.dat',\n",
       " 'LS_quart_ann25D85_X025cobs1Pad10_N0250.dat',\n",
       " 'LS_quart_ann30D85_X025cobs1Pad10_N0250.dat',\n",
       " 'LS_quart_ann30D85_X025cobs1Pad05_N0250.dat',\n",
       " 'LDZ_quart_ann25D85_X025cobs1Pad10_tol05_N0250.dat',\n",
       " 'LS_quart_ann25D80_X025cobs1Pad10_N0200.dat',\n",
       " 'LDZ_quart_ann25D80_X025cobs1Pad10_tol05_N0200.dat',\n",
       " 'LS_quart_ann25D80_X025cobs1Pad10_N0125.dat']"
      ]
     },
     "execution_count": 415,
     "metadata": {},
     "output_type": "execute_result"
    }
   ],
   "source": [
    "os.listdir(LS_dir)"
   ]
  },
  {
   "cell_type": "markdown",
   "metadata": {},
   "source": [
    "# Define Lyot plane dark zone"
   ]
  },
  {
   "cell_type": "code",
   "execution_count": 416,
   "metadata": {
    "collapsed": false
   },
   "outputs": [
    {
     "name": "stdout",
     "output_type": "stream",
     "text": [
      "Lyot plane dark zone width in binned array: +/- 2 pixels\n"
     ]
    }
   ],
   "source": [
    "dz_width_fac = float(aligntol)/1000              # dark zone is +/- this fraction of pupil diameter\n",
    "dz_width = np.ceil(2*N*dz_width_fac).astype(int) # dark zone is +/- this number of pixels in binned pupil array\n",
    "print(\"Lyot plane dark zone width in binned array: +/- {:d} pixels\".format(dz_width))"
   ]
  },
  {
   "cell_type": "markdown",
   "metadata": {},
   "source": [
    "## Annular component"
   ]
  },
  {
   "cell_type": "code",
   "execution_count": 417,
   "metadata": {
    "collapsed": true
   },
   "outputs": [],
   "source": [
    "L = secobs.shape[0]\n",
    "xs = np.linspace(-L/2 + 0.5, L/2 - 0.5, L)\n",
    "[Xs, Ys] = np.meshgrid(xs, xs)\n",
    "\n",
    "ann_outer_bound = np.ones(secobs.shape).astype(int)\n",
    "inside = np.less_equal(Xs**2 + Ys**2, ((inD - 2*dz_width_fac)*D/2)**2)\n",
    "outside = np.greater_equal(Xs**2 + Ys**2, ((outD + 2*dz_width_fac)*D/2)**2)\n",
    "ann_outer_bound[inside] = 0\n",
    "ann_outer_bound[outside] = 0\n",
    "\n",
    "ann_inner_bound = np.ones(secobs.shape).astype(int)\n",
    "inside = np.less_equal(Xs**2 + Ys**2, ((inD + 2*dz_width_fac)*D/2)**2)\n",
    "outside = np.greater_equal(Xs**2 + Ys**2, ((outD - 2*dz_width_fac)*D/2)**2)\n",
    "ann_inner_bound[inside] = 0\n",
    "ann_inner_bound[outside] = 0\n",
    "\n",
    "ann_stop = np.ones(secobs.shape).astype(int)\n",
    "inside_stop = np.less_equal(Xs**2 + Ys**2, (inD*D/2)**2)\n",
    "outside_stop = np.greater_equal(Xs**2 + Ys**2, (outD*D/2)**2)\n",
    "ann_stop[inside] = 0\n",
    "ann_stop[outside] = 0"
   ]
  },
  {
   "cell_type": "code",
   "execution_count": 418,
   "metadata": {
    "collapsed": false
   },
   "outputs": [],
   "source": [
    "ann_dz = np.logical_xor(ann_outer_bound, ann_inner_bound)\n",
    "#plt.figure(figsize=(6,6))\n",
    "#plt.imshow(ann_dark_zone)"
   ]
  },
  {
   "cell_type": "markdown",
   "metadata": {},
   "source": [
    "## Secondary obscuration component"
   ]
  },
  {
   "cell_type": "code",
   "execution_count": 419,
   "metadata": {
    "collapsed": false
   },
   "outputs": [],
   "source": [
    "max_shift_outer = int(round(D*(spad_fac-dz_width_fac)))\n",
    "shift_range_outer = range(-max_shift_outer,max_shift_outer+1,1)\n",
    "[Xshifts_outer, Yshifts_outer] = np.meshgrid(shift_range_outer, shift_range_outer)\n",
    "allowed_shifts_outer = np.less_equal(Xshifts_outer**2 + Yshifts_outer**2, max_shift_outer**2)\n",
    "XYshifts_allowed_outer = zip(Xshifts_outer[allowed_shifts_outer], Yshifts_outer[allowed_shifts_outer])\n",
    "\n",
    "max_shift_inner = int(round(D*(spad_fac+dz_width_fac)))\n",
    "shift_range_inner = range(-max_shift_inner,max_shift_inner+1,1)\n",
    "[Xshifts_inner, Yshifts_inner] = np.meshgrid(shift_range_inner, shift_range_inner)\n",
    "allowed_shifts_inner = np.less_equal(Xshifts_inner**2 + Yshifts_inner**2, max_shift_inner**2)\n",
    "XYshifts_allowed_inner = zip(Xshifts_inner[allowed_shifts_inner], Yshifts_inner[allowed_shifts_inner])"
   ]
  },
  {
   "cell_type": "code",
   "execution_count": 420,
   "metadata": {
    "collapsed": false
   },
   "outputs": [],
   "source": [
    "shift_secobs_accum_outer = np.ones(secobs.shape).astype(int)\n",
    "for (xshift,yshift) in XYshifts_allowed_outer:\n",
    "    shift_secobs = np.roll(np.roll(secobs, yshift, 0), xshift, 1)\n",
    "    shift_secobs_accum_outer = np.logical_and(shift_secobs_accum_outer, shift_secobs)\n",
    "    \n",
    "shift_secobs_accum_inner = np.ones(secobs.shape).astype(int)\n",
    "for (xshift,yshift) in XYshifts_allowed_inner:\n",
    "    shift_secobs = np.roll(np.roll(secobs, yshift, 0), xshift, 1)\n",
    "    shift_secobs_accum_inner = np.logical_and(shift_secobs_accum_inner, shift_secobs)"
   ]
  },
  {
   "cell_type": "code",
   "execution_count": 421,
   "metadata": {
    "collapsed": false
   },
   "outputs": [],
   "source": [
    "secobs_dz = np.logical_and(np.logical_xor(shift_secobs_accum_inner, shift_secobs_accum_outer), ann_inner_bound)\n",
    "#plt.figure(figsize=(6,6))\n",
    "#plt.imshow(secobs_dark_zone)"
   ]
  },
  {
   "cell_type": "code",
   "execution_count": 422,
   "metadata": {
    "collapsed": false
   },
   "outputs": [
    {
     "data": {
      "text/plain": [
       "<matplotlib.image.AxesImage at 0x143e23150>"
      ]
     },
     "execution_count": 422,
     "metadata": {},
     "output_type": "execute_result"
    },
    {
     "data": {
      "image/png": "[encoded data removed]",
      "text/plain": [
       "<matplotlib.figure.Figure at 0x1429a8cd0>"
      ]
     },
     "metadata": {},
     "output_type": "display_data"
    }
   ],
   "source": [
    "Lyot_dz = np.logical_and(np.logical_xor(ann_dz, secobs_dz), shift_secobs_accum_outer)\n",
    "plt.figure(figsize=(6,6))\n",
    "plt.imshow(Lyot_dz)"
   ]
  },
  {
   "cell_type": "code",
   "execution_count": 429,
   "metadata": {
    "collapsed": false
   },
   "outputs": [
    {
     "name": "stdout",
     "output_type": "stream",
     "text": [
      "Binning the original aperture array 4x\n"
     ]
    },
    {
     "data": {
      "text/plain": [
       "(125, 125)"
      ]
     },
     "execution_count": 429,
     "metadata": {},
     "output_type": "execute_result"
    }
   ],
   "source": [
    "#Lyot_dz_binned = skimage.transform.rescale(Lyot_dz, scalefac, order=1)\n",
    "\n",
    "print(\"Binning the original aperture array {0:d}x\".format(scalefac))\n",
    "Lyot_dz_binned = np.reshape(Lyot_dz, (Lyot_dz.shape[0]/scalefac, scalefac, \n",
    "                                      Lyot_dz.shape[1]/scalefac, scalefac)).mean(1).mean(2)\n",
    "\n",
    "L_bin = Lyot_dz_binned.shape[0]\n",
    "Lyot_dz_binned_quad = Lyot_dz_binned[L_bin/2:L_bin/2+N,L_bin/2:L_bin/2+N]\n",
    "Lyot_dz_binned_quad_binary = np.round(Lyot_dz_binned_quad).astype(int)\n",
    "Lyot_dz_binned_quad.shape"
   ]
  },
  {
   "cell_type": "code",
   "execution_count": 430,
   "metadata": {
    "collapsed": false
   },
   "outputs": [
    {
     "data": {
      "image/png": "[encoded data removed]",
      "text/plain": [
       "<matplotlib.figure.Figure at 0x144ced950>"
      ]
     },
     "metadata": {},
     "output_type": "display_data"
    }
   ],
   "source": [
    "plt.figure(figsize=(12,12))\n",
    "plt.subplot(221)\n",
    "plt.title('Dark zone')\n",
    "plt.imshow(Lyot_dz_binned_quad_binary)\n",
    "plt.axis('off')\n",
    "plt.subplot(222)\n",
    "plt.title('Lyot stop')\n",
    "plt.imshow(Lyot_stop_binned_quad_binary)\n",
    "plt.axis('off')\n",
    "plt.subplot(223)\n",
    "plt.title('Dark zone off the Lyot stop')\n",
    "plt.imshow(Lyot_stop_binned_quad_binary & Lyot_dz_binned_quad_binary)\n",
    "plt.subplot(224)\n",
    "plt.title('Dark zone on the Lyot stop')\n",
    "plt.imshow(~Lyot_stop_binned_quad_binary & Lyot_dz_binned_quad_binary)\n",
    "t=plt.axis('off')"
   ]
  },
  {
   "cell_type": "markdown",
   "metadata": {},
   "source": [
    "## Alignment tolerance check"
   ]
  },
  {
   "cell_type": "code",
   "execution_count": 431,
   "metadata": {
    "collapsed": false
   },
   "outputs": [
    {
     "name": "stdout",
     "output_type": "stream",
     "text": [
      "The LDZ accomomdates a translation 0.5% of D=250 pixels = 1.25 pixels, up to 1 whole pixels\n",
      "Testing an (x,y) translation of (0, 1) pixels. Beyond the design tolerance? False\n",
      "LDZ encompasses the LS transmission error region? True\n",
      "Total unconstrained \"leak\" area after translation = 0 pixels\n"
     ]
    }
   ],
   "source": [
    "max_shift_tol = 2*N*dz_width_fac\n",
    "max_shift_tol_int = int(np.floor(max_shift_tol))\n",
    "test_shift = (0,1)\n",
    "print(\"The LDZ accomomdates a translation {0:.1f}% of D={1:d} pixels = {2:.2f} pixels, up to {3:d} whole pixels\".format(\n",
    "      float(aligntol)/10, 2*N, max_shift_tol, max_shift_tol_int))\n",
    "print(\"Testing an (x,y) translation of {0:} pixels. Beyond the design tolerance? {1:}\".format(\n",
    "      test_shift, test_shift[0]**2 + test_shift[1]**2 > max_shift_tol))\n",
    "LS_halfplane = np.concatenate((Lyot_stop_binned_quad_binary[::-1,:], Lyot_stop_binned_quad_binary), axis=0)\n",
    "LS_full = np.concatenate((LS_halfplane[:,::-1], LS_halfplane), axis=1)\n",
    "LS_full_shift = np.roll(np.roll(LS_full, test_shift[0], axis=1), test_shift[1], axis=0)\n",
    "LS_err_mask = np.ceil(np.abs(LS_full_shift - LS_full)).astype(bool)\n",
    "\n",
    "LDZ_halfplane = np.concatenate((Lyot_dz_binned_quad_binary[::-1,:], Lyot_dz_binned_quad_binary), axis=0)\n",
    "LDZ_full = np.concatenate((LDZ_halfplane[:,::-1], LDZ_halfplane), axis=1).astype(bool)\n",
    "\n",
    "print(\"LDZ encompasses the LS transmission error region? {0:}\".format(\n",
    "        ~np.any(np.logical_and(LS_err_mask, ~LDZ_full))))\n",
    "\n",
    "print(\"Total unconstrained \\\"leak\\\" area after translation = {0:d} pixels\".format(\n",
    "      int(np.sum(np.logical_and(LS_err_mask, ~LDZ_full)))))"
   ]
  },
  {
   "cell_type": "code",
   "execution_count": 432,
   "metadata": {
    "collapsed": false
   },
   "outputs": [
    {
     "data": {
      "image/png": "[encoded data removed]",
      "text/plain": [
       "<matplotlib.figure.Figure at 0x142b81dd0>"
      ]
     },
     "metadata": {},
     "output_type": "display_data"
    }
   ],
   "source": [
    "plt.figure(figsize=(16,6))\n",
    "plt.subplot(131)\n",
    "plt.imshow(LS_err_mask)\n",
    "lims = plt.axis('off')\n",
    "t=plt.title('Lyot transmission error region')\n",
    "plt.subplot(132)\n",
    "plt.imshow(~LDZ_full)\n",
    "lims = plt.axis('off')\n",
    "t=plt.title('Inverse of LDZ')\n",
    "plt.subplot(133)\n",
    "plt.imshow(np.logical_and(LS_err_mask, ~LDZ_full))\n",
    "lims = plt.axis('off')\n",
    "t=plt.title('Lyot leak region')"
   ]
  },
  {
   "cell_type": "markdown",
   "metadata": {},
   "source": [
    "## Write the Lyot dark zone file"
   ]
  },
  {
   "cell_type": "code",
   "execution_count": 433,
   "metadata": {
    "collapsed": false
   },
   "outputs": [
    {
     "name": "stdout",
     "output_type": "stream",
     "text": [
      "Wrote binned, cropped LDZ array to /astro/opticslab1/SCDA/Apertures/InputMasks/LS/LDZ_quart_ann25D80_X025cobs1Pad10_tol05_N0125.dat\n"
     ]
    }
   ],
   "source": [
    "if aligntol > 0:\n",
    "    if centobs is True:\n",
    "        LDZ_quart_dat_fname_tail = \"LDZ_quart_ann{0:02d}D{1:02d}_{2:s}025cobs1Pad{3:02d}_tol{4:02d}_N{5:04d}.dat\".format(\n",
    "                                   int(round(100*inD)), int(round(100*outD)), secobs_key, spad, aligntol, N)\n",
    "    else:\n",
    "        LDZ_quart_dat_fname_tail = \"LDZ_quart_ann{0:02d}D{1:02d}_{2:s}025cobs0Pad{3:02d}_tol{4:02d}_N{5:04d}.dat\".format(\n",
    "                                   int(round(100*inD)), int(round(100*outD)), secobs_key, spad, aligntol, N)\n",
    "    LDZ_quart_dat_fname = os.path.join(LS_dir, LDZ_quart_dat_fname_tail)\n",
    "    np.savetxt(LDZ_quart_dat_fname, Lyot_dz_binned_quad_binary, fmt='%d', delimiter=\" \")\n",
    "    print(\"Wrote binned, cropped LDZ array to {0:s}\".format(LDZ_quart_dat_fname))"
   ]
  },
  {
   "cell_type": "code",
   "execution_count": 434,
   "metadata": {
    "collapsed": false
   },
   "outputs": [
    {
     "data": {
      "text/plain": [
       "['LS_quart_ann25D85_X025cobs1Pad05_N0250.dat',\n",
       " 'LDZ_quart_ann25D85_X025cobs1Pad05_tol02_N0250.dat',\n",
       " 'LS_quart_ann20D85_X025cobs1Pad05_N0250.dat',\n",
       " 'LS_quart_ann20D85_X025cobs1Pad10_N0250.dat',\n",
       " 'LS_quart_ann25D85_X025cobs1Pad10_N0250.dat',\n",
       " 'LS_quart_ann30D85_X025cobs1Pad10_N0250.dat',\n",
       " 'LS_quart_ann30D85_X025cobs1Pad05_N0250.dat',\n",
       " 'LDZ_quart_ann25D85_X025cobs1Pad10_tol05_N0250.dat',\n",
       " 'LS_quart_ann25D80_X025cobs1Pad10_N0200.dat',\n",
       " 'LDZ_quart_ann25D80_X025cobs1Pad10_tol05_N0200.dat',\n",
       " 'LS_quart_ann25D80_X025cobs1Pad10_N0125.dat',\n",
       " 'LDZ_quart_ann25D80_X025cobs1Pad10_tol05_N0125.dat']"
      ]
     },
     "execution_count": 434,
     "metadata": {},
     "output_type": "execute_result"
    }
   ],
   "source": [
    "os.listdir(LS_dir)"
   ]
  },
  {
   "cell_type": "code",
   "execution_count": null,
   "metadata": {
    "collapsed": true
   },
   "outputs": [],
   "source": []
  }
 ],
 "metadata": {
  "kernelspec": {
   "display_name": "Python 2",
   "language": "python",
   "name": "python2"
  },
  "language_info": {
   "codemirror_mode": {
    "name": "ipython",
    "version": 2
   },
   "file_extension": ".py",
   "mimetype": "text/x-python",
   "name": "python",
   "nbconvert_exporter": "python",
   "pygments_lexer": "ipython2",
   "version": "2.7.5"
  }
 },
 "nbformat": 4,
 "nbformat_minor": 0
}

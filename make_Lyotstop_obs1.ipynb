{
 "cells": [
  {
   "cell_type": "code",
   "execution_count": 1,
   "metadata": {
    "collapsed": false
   },
   "outputs": [
    {
     "name": "stdout",
     "output_type": "stream",
     "text": [
      "Populating the interactive namespace from numpy and matplotlib\n"
     ]
    }
   ],
   "source": [
    "import numpy as np\n",
    "import skimage.transform\n",
    "import astropy.io.fits as fits\n",
    "import matplotlib.pyplot as plt\n",
    "import os\n",
    "%pylab inline --no-import-all\n",
    "matplotlib.rcParams['image.origin'] = 'lower'\n",
    "matplotlib.rcParams['image.interpolation'] = 'nearest' \n",
    "matplotlib.rcParams['image.cmap'] = 'gray'"
   ]
  },
  {
   "cell_type": "markdown",
   "metadata": {},
   "source": [
    "## Dictionary to map file keys from STScI to Krist"
   ]
  },
  {
   "cell_type": "code",
   "execution_count": 2,
   "metadata": {
    "collapsed": true
   },
   "outputs": [],
   "source": [
    "telap_key_map = {'hex1':'hex1', 'hex2':'hex2', 'hex3':'hex3', 'hex4':'hex4',\n",
    "                 'key24':'keystone24', 'pie08':'piewedge8', 'pie12':'piewedge12'}\n",
    "secobs_key_map = {'Cross':'cross', 'X':'x'}"
   ]
  },
  {
   "cell_type": "markdown",
   "metadata": {},
   "source": [
    "## Set basic parameters"
   ]
  },
  {
   "cell_type": "code",
   "execution_count": 3,
   "metadata": {
    "collapsed": true
   },
   "outputs": [],
   "source": [
    "N = 300 # pupil array quadrant width after binning\n",
    "inD = 0.25\n",
    "outD = 0.9\n",
    "spad = 0.01\n",
    "telap_key = \"hex4\"\n",
    "secobs_key = \"X\"\n",
    "centobs_key = True\n",
    "D = 1000 # starting aperture diameter"
   ]
  },
  {
   "cell_type": "markdown",
   "metadata": {},
   "source": [
    "## Load telescope aperture and secondary obscuration"
   ]
  },
  {
   "cell_type": "code",
   "execution_count": 4,
   "metadata": {
    "collapsed": false
   },
   "outputs": [],
   "source": [
    "#telap_dir = os.path.abspath('../Apertures/JPL/offset_masks')\n",
    "telap_dir = os.path.abspath('/astro/opticslab1/SCDA/Apertures/JPL/offset_masks')\n",
    "if centobs_key is True:\n",
    "    telap_fname = os.path.join(telap_dir, \"{0:s}_{1:04d}pix_offset.fits\".format(\n",
    "                                           telap_key_map[telap_key], D))\n",
    "    secobs_fname = os.path.join(telap_dir, \"{0:s}_spiders_{1:04d}pix_2.5cm_offset.fits\".format(\n",
    "                                            secobs_key_map[secobs_key], D))\n",
    "else:\n",
    "    telap_fname = os.path.join(telap_dir, \"{0:s}_{1:04d}pix_offset_no_central_obsc.fits\".format(\n",
    "                                           telap_key_map[telap_key], D))\n",
    "    secobs_fname = os.path.join(telap_dir, \"{0:s}_spiders_{1:04d}pix_2.5cm_offset.fits\".format(\n",
    "                                            secobs_key_map[secobs_key], D))\n",
    "telap_hdulist = fits.open(telap_fname, \"readonly\")\n",
    "telap_orig = telap_hdulist[0].data\n",
    "telap_hdulist.close()\n",
    "secobs_hdulist = fits.open(secobs_fname, \"readonly\")\n",
    "secobs = secobs_hdulist[0].data\n",
    "secobs_hdulist.close()\n",
    "obstelap = secobs"
   ]
  },
  {
   "cell_type": "code",
   "execution_count": 5,
   "metadata": {
    "collapsed": false
   },
   "outputs": [
    {
     "data": {
      "text/plain": [
       "<matplotlib.image.AxesImage at 0x10c03f3d0>"
      ]
     },
     "execution_count": 5,
     "metadata": {},
     "output_type": "execute_result"
    },
    {
     "data": {
      "image/png": "[encoded data removed]",
      "text/plain": [
       "<matplotlib.figure.Figure at 0x10c011e10>"
      ]
     },
     "metadata": {},
     "output_type": "display_data"
    }
   ],
   "source": [
    "plt.figure(figsize=(10,10))\n",
    "plt.imshow(secobs)"
   ]
  },
  {
   "cell_type": "markdown",
   "metadata": {},
   "source": [
    "## Pad the secondary obscuration"
   ]
  },
  {
   "cell_type": "code",
   "execution_count": 6,
   "metadata": {
    "collapsed": false
   },
   "outputs": [
    {
     "data": {
      "text/plain": [
       "317"
      ]
     },
     "execution_count": 6,
     "metadata": {},
     "output_type": "execute_result"
    }
   ],
   "source": [
    "max_shift = int(round(D*spad))\n",
    "shift_range = range(-max_shift,max_shift+1,1)\n",
    "[Xshifts, Yshifts] = np.meshgrid(shift_range, shift_range)\n",
    "allowed_shifts = np.less_equal(Xshifts**2 + Yshifts**2, max_shift**2)\n",
    "XYshifts_allowed = zip(Xshifts[allowed_shifts], Yshifts[allowed_shifts])\n",
    "len(XYshifts_allowed)"
   ]
  },
  {
   "cell_type": "code",
   "execution_count": 7,
   "metadata": {
    "collapsed": false
   },
   "outputs": [],
   "source": [
    "padded_secobs_accum = np.ones(secobs.shape)\n",
    "for (xshift,yshift) in XYshifts_allowed:\n",
    "    secobs_shifted = np.roll(np.roll(secobs, yshift, 0), xshift, 1) \n",
    "    padded_secobs_accum *= secobs_shifted"
   ]
  },
  {
   "cell_type": "code",
   "execution_count": 8,
   "metadata": {
    "collapsed": false
   },
   "outputs": [],
   "source": [
    "#plt.figure(figsize=(10,10))\n",
    "#plt.imshow(padded_secobs_accum)"
   ]
  },
  {
   "cell_type": "markdown",
   "metadata": {},
   "source": [
    "## Combine with annular stop"
   ]
  },
  {
   "cell_type": "code",
   "execution_count": 9,
   "metadata": {
    "collapsed": false
   },
   "outputs": [],
   "source": [
    "L = secobs.shape[0]\n",
    "xs = np.linspace(-L/2 + 0.5, L/2 - 0.5, L)\n",
    "[Xs, Ys] = np.meshgrid(xs, xs)\n",
    "inside_ann = np.less_equal(Xs**2 + Ys**2, (inD*D/2)**2)\n",
    "outside_ann = np.greater_equal(Xs**2 + Ys**2, (outD*D/2)**2)\n",
    "Lyot_stop = np.round(padded_secobs_accum)\n",
    "Lyot_stop[inside_ann] = 0.\n",
    "Lyot_stop[outside_ann] = 0."
   ]
  },
  {
   "cell_type": "code",
   "execution_count": 10,
   "metadata": {
    "collapsed": false
   },
   "outputs": [
    {
     "data": {
      "text/plain": [
       "<matplotlib.image.AxesImage at 0x10c887590>"
      ]
     },
     "execution_count": 10,
     "metadata": {},
     "output_type": "execute_result"
    },
    {
     "data": {
      "image/png": "[encoded data removed]",
      "text/plain": [
       "<matplotlib.figure.Figure at 0x10c011c90>"
      ]
     },
     "metadata": {},
     "output_type": "display_data"
    }
   ],
   "source": [
    "plt.figure(figsize=(12,12))\n",
    "plt.imshow(Lyot_stop)"
   ]
  },
  {
   "cell_type": "markdown",
   "metadata": {},
   "source": [
    "## Bin to final array resolution, crop"
   ]
  },
  {
   "cell_type": "code",
   "execution_count": 11,
   "metadata": {
    "collapsed": false
   },
   "outputs": [],
   "source": [
    "scalefac = float(N)/(D/2)\n",
    "#Lyot_stop_binned = scipy.ndimage.zoom(Lyot_stop, scalefac, order=1)\n",
    "Lyot_stop_binned = skimage.transform.rescale(Lyot_stop, scalefac, order=1)"
   ]
  },
  {
   "cell_type": "code",
   "execution_count": 12,
   "metadata": {
    "collapsed": false
   },
   "outputs": [
    {
     "data": {
      "text/plain": [
       "(300, 300)"
      ]
     },
     "execution_count": 12,
     "metadata": {},
     "output_type": "execute_result"
    }
   ],
   "source": [
    "L_bin = Lyot_stop_binned.shape[0]\n",
    "Lyot_stop_binned_quad = Lyot_stop_binned[L_bin/2:L_bin/2+N,L_bin/2:L_bin/2+N]\n",
    "Lyot_stop_binned_quad_binary = np.round(Lyot_stop_binned_quad).astype(int)\n",
    "Lyot_stop_binned_quad.shape"
   ]
  },
  {
   "cell_type": "code",
   "execution_count": 13,
   "metadata": {
    "collapsed": false
   },
   "outputs": [
    {
     "data": {
      "text/plain": [
       "<matplotlib.image.AxesImage at 0x1157887d0>"
      ]
     },
     "execution_count": 13,
     "metadata": {},
     "output_type": "execute_result"
    },
    {
     "data": {
      "image/png": "[encoded data removed]",
      "text/plain": [
       "<matplotlib.figure.Figure at 0x10c8733d0>"
      ]
     },
     "metadata": {},
     "output_type": "display_data"
    }
   ],
   "source": [
    "plt.figure(figsize=(10,10))\n",
    "plt.imshow(Lyot_stop_binned_quad_binary)\n",
    "#plt.imshow(np.floor(Lyot_stop_binned_quad))"
   ]
  },
  {
   "cell_type": "markdown",
   "metadata": {},
   "source": [
    "## Write the binned, cropped Lyot stop to a dat (ASCII) file "
   ]
  },
  {
   "cell_type": "code",
   "execution_count": 14,
   "metadata": {
    "collapsed": false
   },
   "outputs": [
    {
     "name": "stdout",
     "output_type": "stream",
     "text": [
      "Destination /Users/ntz/SCDA/LS already exists\n"
     ]
    }
   ],
   "source": [
    "LS_dir = os.path.abspath(\"../LS\")\n",
    "if not os.path.exists(LS_dir):\n",
    "    os.mkdir(LS_dir)\n",
    "    print(\"created {:s} for LS arrays\".format(LS_dir))\n",
    "else:\n",
    "    print(\"Destination {:s} already exists\".format(LS_dir))"
   ]
  },
  {
   "cell_type": "code",
   "execution_count": 15,
   "metadata": {
    "collapsed": false
   },
   "outputs": [
    {
     "name": "stdout",
     "output_type": "stream",
     "text": [
      "Wrote binned, cropped LS array to /Users/ntz/SCDA/LS/LS_quart_ann25D90_X025c1Pad10_N0300.dat\n"
     ]
    }
   ],
   "source": [
    "if centobs_key is True:\n",
    "    LS_quart_dat_fname_tail = \"LS_quart_ann{0:02d}D{1:02d}_{2:s}025c1Pad{3:02d}_N{4:04d}.dat\".format(\n",
    "                               int(round(100*inD)), int(round(100*outD)), secobs_key, int(round(1000*spad)),N)\n",
    "else:\n",
    "    LS_quart_dat_fname_tail = \"LS_quart_ann{0:02d}D{1:02d}_{2:s}025c0Pad{3:02d}_N{4:04d}.dat\".format(\n",
    "                               int(round(100*inD)), int(round(100*outD)), secobs_key, int(round(1000*spad)),N)\n",
    "    \n",
    "LS_quart_dat_fname = os.path.join(LS_dir, LS_quart_dat_fname_tail)\n",
    "#np.savetxt(LS_quart_dat_fname, Lyot_stop_binned_quad, fmt='%.6f', delimiter=\" \")\n",
    "np.savetxt(LS_quart_dat_fname, Lyot_stop_binned_quad_binary, fmt='%d', delimiter=\" \")\n",
    "print(\"Wrote binned, cropped LS array to {0:s}\".format(LS_quart_dat_fname))"
   ]
  },
  {
   "cell_type": "code",
   "execution_count": 16,
   "metadata": {
    "collapsed": false
   },
   "outputs": [
    {
     "data": {
      "text/plain": [
       "['LDZ_quart_ann25D90_X025c1Pad10_dzw05_N0300.dat',\n",
       " 'LDZ_quart_ann25D90_X025c1Pad10_zw05_N0300.dat',\n",
       " 'LS_quart_ann25D90_X025c1Pad05_N0300.dat',\n",
       " 'LS_quart_ann25D90_X025c1Pad08_N0300.dat',\n",
       " 'LS_quart_ann25D90_X025c1Pad10_N0300.dat',\n",
       " 'LS_quart_ann25D90_X025sm1Pad05_N0300.dat']"
      ]
     },
     "execution_count": 16,
     "metadata": {},
     "output_type": "execute_result"
    }
   ],
   "source": [
    "os.listdir(LS_dir)"
   ]
  },
  {
   "cell_type": "markdown",
   "metadata": {},
   "source": [
    "# Define Lyot plane dark zone"
   ]
  },
  {
   "cell_type": "code",
   "execution_count": 17,
   "metadata": {
    "collapsed": false
   },
   "outputs": [
    {
     "name": "stdout",
     "output_type": "stream",
     "text": [
      "Lyot plane dark zone width in binned array: +/- 3 pixels\n"
     ]
    }
   ],
   "source": [
    "dz_width_fac = 0.005                             # dark zone is +/- this fraction of pupil diameter\n",
    "dz_width = np.ceil(2*N*dz_width_fac).astype(int) # dark zone is +/- this number of pixels in binned pupil array\n",
    "print(\"Lyot plane dark zone width in binned array: +/- {:d} pixels\".format(dz_width))"
   ]
  },
  {
   "cell_type": "markdown",
   "metadata": {},
   "source": [
    "## Annular component"
   ]
  },
  {
   "cell_type": "code",
   "execution_count": 18,
   "metadata": {
    "collapsed": true
   },
   "outputs": [],
   "source": [
    "L = secobs.shape[0]\n",
    "xs = np.linspace(-L/2 + 0.5, L/2 - 0.5, L)\n",
    "[Xs, Ys] = np.meshgrid(xs, xs)\n",
    "\n",
    "ann_outer_bound = np.ones(secobs.shape).astype(int)\n",
    "inside = np.less_equal(Xs**2 + Ys**2, ((inD - 2*dz_width_fac)*D/2)**2)\n",
    "outside = np.greater_equal(Xs**2 + Ys**2, ((outD + 2*dz_width_fac)*D/2)**2)\n",
    "ann_outer_bound[inside] = 0\n",
    "ann_outer_bound[outside] = 0\n",
    "\n",
    "ann_inner_bound = np.ones(secobs.shape).astype(int)\n",
    "inside = np.less_equal(Xs**2 + Ys**2, ((inD + 2*dz_width_fac)*D/2)**2)\n",
    "outside = np.greater_equal(Xs**2 + Ys**2, ((outD - 2*dz_width_fac)*D/2)**2)\n",
    "ann_inner_bound[inside] = 0\n",
    "ann_inner_bound[outside] = 0\n",
    "\n",
    "ann_stop = np.ones(secobs.shape).astype(int)\n",
    "inside_stop = np.less_equal(Xs**2 + Ys**2, (inD*D/2)**2)\n",
    "outside_stop = np.greater_equal(Xs**2 + Ys**2, (outD*D/2)**2)\n",
    "ann_stop[inside] = 0\n",
    "ann_stop[outside] = 0"
   ]
  },
  {
   "cell_type": "code",
   "execution_count": 19,
   "metadata": {
    "collapsed": false
   },
   "outputs": [],
   "source": [
    "ann_dz = np.logical_xor(ann_outer_bound, ann_inner_bound)\n",
    "#plt.figure(figsize=(6,6))\n",
    "#plt.imshow(ann_dark_zone)"
   ]
  },
  {
   "cell_type": "markdown",
   "metadata": {},
   "source": [
    "## Secondary obscuration component"
   ]
  },
  {
   "cell_type": "code",
   "execution_count": 20,
   "metadata": {
    "collapsed": false
   },
   "outputs": [],
   "source": [
    "max_shift_outer = int(round(D*(spad-dz_width_fac)))\n",
    "shift_range_outer = range(-max_shift_outer,max_shift_outer+1,1)\n",
    "[Xshifts_outer, Yshifts_outer] = np.meshgrid(shift_range_outer, shift_range_outer)\n",
    "allowed_shifts_outer = np.less_equal(Xshifts_outer**2 + Yshifts_outer**2, max_shift_outer**2)\n",
    "XYshifts_allowed_outer = zip(Xshifts_outer[allowed_shifts_outer], Yshifts_outer[allowed_shifts_outer])\n",
    "\n",
    "max_shift_inner = int(round(D*(spad+dz_width_fac)))\n",
    "shift_range_inner = range(-max_shift_inner,max_shift_inner+1,1)\n",
    "[Xshifts_inner, Yshifts_inner] = np.meshgrid(shift_range_inner, shift_range_inner)\n",
    "allowed_shifts_inner = np.less_equal(Xshifts_inner**2 + Yshifts_inner**2, max_shift_inner**2)\n",
    "XYshifts_allowed_inner = zip(Xshifts_inner[allowed_shifts_inner], Yshifts_inner[allowed_shifts_inner])"
   ]
  },
  {
   "cell_type": "code",
   "execution_count": 21,
   "metadata": {
    "collapsed": false
   },
   "outputs": [],
   "source": [
    "shift_secobs_accum_outer = np.ones(secobs.shape).astype(int)\n",
    "for (xshift,yshift) in XYshifts_allowed_outer:\n",
    "    shift_secobs = np.roll(np.roll(secobs, yshift, 0), xshift, 1)\n",
    "    shift_secobs_accum_outer = np.logical_and(shift_secobs_accum_outer, shift_secobs)\n",
    "    \n",
    "shift_secobs_accum_inner = np.ones(secobs.shape).astype(int)\n",
    "for (xshift,yshift) in XYshifts_allowed_inner:\n",
    "    shift_secobs = np.roll(np.roll(secobs, yshift, 0), xshift, 1)\n",
    "    shift_secobs_accum_inner = np.logical_and(shift_secobs_accum_inner, shift_secobs)"
   ]
  },
  {
   "cell_type": "code",
   "execution_count": 22,
   "metadata": {
    "collapsed": false
   },
   "outputs": [],
   "source": [
    "secobs_dz = np.logical_and(np.logical_xor(shift_secobs_accum_inner, shift_secobs_accum_outer), ann_inner_bound)\n",
    "#plt.figure(figsize=(6,6))\n",
    "#plt.imshow(secobs_dark_zone)"
   ]
  },
  {
   "cell_type": "code",
   "execution_count": 24,
   "metadata": {
    "collapsed": false
   },
   "outputs": [
    {
     "data": {
      "text/plain": [
       "<matplotlib.image.AxesImage at 0x11a73e450>"
      ]
     },
     "execution_count": 24,
     "metadata": {},
     "output_type": "execute_result"
    },
    {
     "data": {
      "image/png": "[encoded data removed]",
      "text/plain": [
       "<matplotlib.figure.Figure at 0x11a716710>"
      ]
     },
     "metadata": {},
     "output_type": "display_data"
    }
   ],
   "source": [
    "Lyot_dz = np.logical_and(np.logical_xor(ann_dz, secobs_dz), shift_secobs_accum_outer)\n",
    "plt.figure(figsize=(6,6))\n",
    "plt.imshow(Lyot_dz)"
   ]
  },
  {
   "cell_type": "code",
   "execution_count": 25,
   "metadata": {
    "collapsed": false
   },
   "outputs": [
    {
     "data": {
      "text/plain": [
       "(300, 300)"
      ]
     },
     "execution_count": 25,
     "metadata": {},
     "output_type": "execute_result"
    }
   ],
   "source": [
    "Lyot_dz_binned = skimage.transform.rescale(Lyot_dz, scalefac, order=1)\n",
    "L_bin = Lyot_stop_binned.shape[0]\n",
    "Lyot_dz_binned_quad = Lyot_dz_binned[L_bin/2:L_bin/2+N,L_bin/2:L_bin/2+N]\n",
    "Lyot_dz_binned_quad_binary = np.round(Lyot_dz_binned_quad).astype(int)\n",
    "Lyot_dz_binned_quad.shape"
   ]
  },
  {
   "cell_type": "code",
   "execution_count": 26,
   "metadata": {
    "collapsed": false
   },
   "outputs": [
    {
     "data": {
      "text/plain": [
       "(-0.5, 299.5, -0.5, 299.5)"
      ]
     },
     "execution_count": 26,
     "metadata": {},
     "output_type": "execute_result"
    },
    {
     "data": {
      "image/png": "[encoded data removed]",
      "text/plain": [
       "<matplotlib.figure.Figure at 0x10c89de50>"
      ]
     },
     "metadata": {},
     "output_type": "display_data"
    }
   ],
   "source": [
    "plt.figure(figsize=(16,16))\n",
    "plt.subplot(221)\n",
    "plt.title('Dark zone')\n",
    "plt.imshow(Lyot_dz_binned_quad_binary)\n",
    "plt.axis('off')\n",
    "plt.subplot(222)\n",
    "plt.title('Lyot stop')\n",
    "plt.imshow(Lyot_stop_binned_quad_binary)\n",
    "plt.axis('off')\n",
    "plt.subplot(223)\n",
    "plt.title('Dark zone off the Lyot stop')\n",
    "plt.imshow(Lyot_stop_binned_quad_binary & Lyot_dz_binned_quad_binary)\n",
    "plt.subplot(224)\n",
    "plt.title('Dark zone on the Lyot stop')\n",
    "plt.imshow(~Lyot_stop_binned_quad_binary & Lyot_dz_binned_quad_binary)\n",
    "plt.axis('off')"
   ]
  },
  {
   "cell_type": "markdown",
   "metadata": {},
   "source": [
    "## Write the Lyot dark zone file"
   ]
  },
  {
   "cell_type": "code",
   "execution_count": 27,
   "metadata": {
    "collapsed": false
   },
   "outputs": [
    {
     "name": "stdout",
     "output_type": "stream",
     "text": [
      "Wrote binned, cropped LDZ array to /Users/ntz/SCDA/LS/LDZ_quart_ann25D90_X025c1Pad10_dzw05_N0300.dat\n"
     ]
    }
   ],
   "source": [
    "if centobs_key is True:\n",
    "    LDZ_quart_dat_fname_tail = \"LDZ_quart_ann{0:02d}D{1:02d}_{2:s}025c1Pad{3:02d}_dzw{4:02d}_N{5:04d}.dat\".format(\n",
    "                               int(round(100*inD)), int(round(100*outD)), secobs_key, int(round(1000*spad)),\n",
    "                               int(round(1000*dz_width_fac)), N)\n",
    "else:\n",
    "    LDZ_quart_dat_fname_tail = \"LDZ_quart_ann{0:02d}D{1:02d}_{2:s}025c0Pad{3:02d}_dzw{4:02d}_N{5:04d}.dat\".format(\n",
    "                               int(round(100*inD)), int(round(100*outD)), secobs_key, int(round(1000*spad)),\n",
    "                               int(round(1000*dz_width_fac)), N)\n",
    "LDZ_quart_dat_fname = os.path.join(LS_dir, LDZ_quart_dat_fname_tail)\n",
    "#np.savetxt(LS_quart_dat_fname, Lyot_stop_binned_quad, fmt='%.6f', delimiter=\" \")\n",
    "np.savetxt(LDZ_quart_dat_fname, Lyot_dz_binned_quad_binary, fmt='%d', delimiter=\" \")\n",
    "print(\"Wrote binned, cropped LDZ array to {0:s}\".format(LDZ_quart_dat_fname))"
   ]
  },
  {
   "cell_type": "code",
   "execution_count": null,
   "metadata": {
    "collapsed": true
   },
   "outputs": [],
   "source": []
  }
 ],
 "metadata": {
  "kernelspec": {
   "display_name": "Python 2",
   "language": "python",
   "name": "python2"
  },
  "language_info": {
   "codemirror_mode": {
    "name": "ipython",
    "version": 2
   },
   "file_extension": ".py",
   "mimetype": "text/x-python",
   "name": "python",
   "nbconvert_exporter": "python",
   "pygments_lexer": "ipython2",
   "version": "2.7.5"
  }
 },
 "nbformat": 4,
 "nbformat_minor": 0
}

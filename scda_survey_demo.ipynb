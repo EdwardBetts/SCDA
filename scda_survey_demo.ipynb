{
 "cells": [
  {
   "cell_type": "code",
   "execution_count": 1,
   "metadata": {
    "collapsed": false
   },
   "outputs": [],
   "source": [
    "import scda\n",
    "import pprint\n",
    "import logging\n",
    "scda.configure_log()"
   ]
  },
  {
   "cell_type": "markdown",
   "metadata": {},
   "source": [
    "# Demo: Prepare an SCDA design paramater survey "
   ]
  },
  {
   "cell_type": "markdown",
   "metadata": {},
   "source": [
    "## Define a list of pupil parameters to survey\n",
    "Parameters selected here are the primary mirror (pm), support struts (ss), secondary strut thickness (sst), secondary mirror (sm). In the image plane, two bandwidths are tested, 10% and 20%.\n",
    "The parameter 'N' = pupil array diameter, and FPM 'rad' = radius each have only one value and therefore is fixed for all designs."
   ]
  },
  {
   "cell_type": "code",
   "execution_count": 16,
   "metadata": {
    "collapsed": true
   },
   "outputs": [],
   "source": [
    "#survey_params = {'Pupil': { 'pm': ['hex1', 'hex2', 'hex3', 'hex4', 'pie08'],\n",
    "#                 'ss': ['X','Cross'],\n",
    "#                 'sst': ['025','100'],\n",
    "#                 'sm': [True, False],\n",
    "#                 'N': 250 },\n",
    "#                 'FPM': { 'rad': 4. },\n",
    "#                 'LS': { 'shape':['ann', 'hex'], 'obscure':2, 'ppad':3, 'spad':[4,8] },\n",
    "#                 'Image': { 'iwa':[3.5, 3.75, 4.], 'bw':0.10 }}\n",
    "\n",
    "survey_params = {'Pupil': { 'pm': 'hex4',\n",
    "                            'ss': 'X',\n",
    "                            'sst': '025',\n",
    "                            'sm': True,\n",
    "                            'N': [250, 300, 350, 400, 450, 500] },\n",
    "                 'FPM': { 'rad': 4. },\n",
    "                 'LS': { 'shape':'ann', 'obscure':1, 'spad':20 },\n",
    "                 'Image': { 'iwa':3.5, 'bw':0.10} }"
   ]
  },
  {
   "cell_type": "code",
   "execution_count": 17,
   "metadata": {
    "collapsed": true
   },
   "outputs": [],
   "source": [
    "survey_ampl_dir = \"./ampl_survey_test/\" # where to write the AMPL source code"
   ]
  },
  {
   "cell_type": "markdown",
   "metadata": {},
   "source": [
    "## Initiate a survey object with the above parameter combinations "
   ]
  },
  {
   "cell_type": "code",
   "execution_count": 19,
   "metadata": {
    "collapsed": false
   },
   "outputs": [
    {
     "name": "stdout",
     "output_type": "stream",
     "text": [
      "This survey has 6 design parameter combinations.\n",
      "1 parameters are varied: (('Pupil', 'N'),)\n"
     ]
    }
   ],
   "source": [
    "hexap_survey = scda.DesignParamSurvey(scda.QuarterplaneAPLC, survey_params, fileorg={'ampl src dir':survey_ampl_dir})\n",
    "print(\"This survey has {0:d} design parameter combinations.\".format(hexap_survey.N_combos))\n",
    "print(\"{0:d} parameters are varied: {1}\".format(len(hexap_survey.varied_param_index), hexap_survey.varied_param_index))"
   ]
  },
  {
   "cell_type": "markdown",
   "metadata": {},
   "source": [
    "## Print some attributes of an individual coronagraph object"
   ]
  },
  {
   "cell_type": "code",
   "execution_count": 21,
   "metadata": {
    "collapsed": false
   },
   "outputs": [
    {
     "name": "stdout",
     "output_type": "stream",
     "text": [
      "Telescope aperture file for design #2: /Users/ntz/SCDA/scda_pytools/TelAp_quart_hex4X025sm1_N0300.dat\n",
      "Focal plane mask file for design #2: /Users/ntz/SCDA/scda_pytools/FPM_quart_occspot_M050.dat\n",
      "Lyot stop file for design #2: /Users/ntz/SCDA/scda_pytools/LS_quart_ann20D90_X025sm1Pad20_N0300.dat\n"
     ]
    }
   ],
   "source": [
    "#i = 100\n",
    "i = 1\n",
    "print(\"Telescope aperture file for design #{:d}: {:s}\".format(i+1, hexap_survey.coron_list[i].fileorg['TelAp fname']))\n",
    "print(\"Focal plane mask file for design #{:d}: {:s}\".format(i+1, hexap_survey.coron_list[i].fileorg['FPM fname']))\n",
    "print(\"Lyot stop file for design #{:d}: {:s}\".format(i+1, hexap_survey.coron_list[i].fileorg['LS fname']))"
   ]
  },
  {
   "cell_type": "markdown",
   "metadata": {},
   "source": [
    "### Check the status of input files needed to run the AMPL program"
   ]
  },
  {
   "cell_type": "code",
   "execution_count": 22,
   "metadata": {
    "collapsed": false
   },
   "outputs": [
    {
     "data": {
      "text/plain": [
       "False"
      ]
     },
     "execution_count": 22,
     "metadata": {},
     "output_type": "execute_result"
    }
   ],
   "source": [
    "hexap_survey.check_ampl_input_files()"
   ]
  },
  {
   "cell_type": "markdown",
   "metadata": {},
   "source": [
    "## List the varying parameter combinations"
   ]
  },
  {
   "cell_type": "code",
   "execution_count": null,
   "metadata": {
    "collapsed": false
   },
   "outputs": [],
   "source": [
    "# pprint.pprint(hexap_survey.varied_param_combos)"
   ]
  },
  {
   "cell_type": "markdown",
   "metadata": {},
   "source": [
    "## Write the batch of AMPL files"
   ]
  },
  {
   "cell_type": "code",
   "execution_count": 23,
   "metadata": {
    "collapsed": false,
    "scrolled": false
   },
   "outputs": [
    {
     "name": "stderr",
     "output_type": "stream",
     "text": [
      "INFO:root:Wrote the batch of design survey AMPL programs into /Users/ntz/SCDA/scda_pytools/ampl_survey_test\n"
     ]
    }
   ],
   "source": [
    "hexap_survey.write_ampl_batch(override_infile_status=True, overwrite=True)"
   ]
  },
  {
   "cell_type": "markdown",
   "metadata": {
    "collapsed": true
   },
   "source": [
    "## Write tables summarizing the design survey configuration and status to a spreadsheet"
   ]
  },
  {
   "cell_type": "code",
   "execution_count": null,
   "metadata": {
    "collapsed": false
   },
   "outputs": [],
   "source": [
    "hexap_survey.write_spreadsheet()"
   ]
  },
  {
   "cell_type": "markdown",
   "metadata": {},
   "source": [
    "## Store the design survey as a serialized python object"
   ]
  },
  {
   "cell_type": "code",
   "execution_count": null,
   "metadata": {
    "collapsed": false
   },
   "outputs": [],
   "source": [
    "hexap_survey.write()"
   ]
  },
  {
   "cell_type": "markdown",
   "metadata": {},
   "source": [
    "## Load an existing design survey"
   ]
  },
  {
   "cell_type": "code",
   "execution_count": null,
   "metadata": {
    "collapsed": false
   },
   "outputs": [],
   "source": [
    "mysurvey = scda.load_design_param_survey(hexap_survey.fileorg['survey fname'])"
   ]
  }
 ],
 "metadata": {
  "kernelspec": {
   "display_name": "Python 2",
   "language": "python",
   "name": "python2"
  },
  "language_info": {
   "codemirror_mode": {
    "name": "ipython",
    "version": 2
   },
   "file_extension": ".py",
   "mimetype": "text/x-python",
   "name": "python",
   "nbconvert_exporter": "python",
   "pygments_lexer": "ipython2",
   "version": "2.7.5"
  }
 },
 "nbformat": 4,
 "nbformat_minor": 0
}

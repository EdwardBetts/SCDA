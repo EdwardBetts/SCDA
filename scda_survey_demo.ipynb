{
 "cells": [
  {
   "cell_type": "code",
   "execution_count": null,
   "metadata": {
    "collapsed": false
   },
   "outputs": [],
   "source": [
    "import scda\n",
    "import pprint\n",
    "scda.configure_log()"
   ]
  },
  {
   "cell_type": "markdown",
   "metadata": {},
   "source": [
    "# Demo: Prepare an SCDA design paramater survey "
   ]
  },
  {
   "cell_type": "markdown",
   "metadata": {},
   "source": [
    "## Define a list of pupil parameters to survey\n",
    "Parameters selected here are the primary mirror (pm), support struts (ss), secondary strut thickness (sst), secondary mirror (sm). In the image plane, two bandwidths are tested, 10% and 20%.\n",
    "The parameter 'N' = pupil array diameter, and FPM 'rad' = radius each have only one value and therefore is fixed for all designs."
   ]
  },
  {
   "cell_type": "code",
   "execution_count": null,
   "metadata": {
    "collapsed": true
   },
   "outputs": [],
   "source": [
    "survey_params = {'Pupil': { 'pm': ['hex1', 'hex2', 'hex3', 'pie08'],\n",
    "                 'ss': ['X','Cross'],\n",
    "                 'sst': ['025','100'],\n",
    "                 'sm': [True, False],\n",
    "                 'N': 250 },\n",
    "                 'FPM': { 'rad': 4. },\n",
    "                 'LS': { 'shape':['ann', 'hex'], 'obscure':2, 'ppad':3, 'spad':[4,8] },\n",
    "                 'Image': { 'bw': [0.10, 0.20] }}"
   ]
  },
  {
   "cell_type": "code",
   "execution_count": null,
   "metadata": {
    "collapsed": true
   },
   "outputs": [],
   "source": [
    "survey_ampl_dir = \"./ampl_survey_test/\" # where to write the AMPL source code"
   ]
  },
  {
   "cell_type": "markdown",
   "metadata": {},
   "source": [
    "## Initiate a survey object with the above parameter combinations "
   ]
  },
  {
   "cell_type": "code",
   "execution_count": null,
   "metadata": {
    "collapsed": false
   },
   "outputs": [],
   "source": [
    "hexap_survey = scda.DesignParamSurvey(scda.QuarterplaneAPLC, survey_params, fileorg={'ampl src dir':survey_ampl_dir})\n",
    "print(\"This survey has {0:d} design parameter combinations.\".format(hexap_survey.N_combos))\n",
    "print(\"{0:d} parameters are varied: {1}\".format(len(hexap_survey.varied_param_index), hexap_survey.varied_param_index))"
   ]
  },
  {
   "cell_type": "markdown",
   "metadata": {},
   "source": [
    "## Print some attributes of an individual coronagraph object"
   ]
  },
  {
   "cell_type": "code",
   "execution_count": null,
   "metadata": {
    "collapsed": false
   },
   "outputs": [],
   "source": [
    "i = 100\n",
    "print(\"Telescope aperture file for design #{:d}: {:s}\".format(i+1, hexap_survey.coron_list[i].fileorg['TelAp fname']))\n",
    "print(\"Focal plane mask file for design #{:d}: {:s}\".format(i+1, hexap_survey.coron_list[i].fileorg['FPM fname']))\n",
    "print(\"Lyot stop file for design #{:d}: {:s}\".format(i+1, hexap_survey.coron_list[i].fileorg['LS fname']))"
   ]
  },
  {
   "cell_type": "markdown",
   "metadata": {},
   "source": [
    "### Check the status of input files needed to run the AMPL program"
   ]
  },
  {
   "cell_type": "code",
   "execution_count": null,
   "metadata": {
    "collapsed": false
   },
   "outputs": [],
   "source": [
    "hexap_survey.coron_list[i].check_ampl_input_files()\n",
    "#hexap_survey.check_ampl_input_files()"
   ]
  },
  {
   "cell_type": "markdown",
   "metadata": {},
   "source": [
    "## List the varying parameter combinations"
   ]
  },
  {
   "cell_type": "code",
   "execution_count": null,
   "metadata": {
    "collapsed": false
   },
   "outputs": [],
   "source": [
    "#pprint.pprint(hexap_survey.varied_param_combos)"
   ]
  },
  {
   "cell_type": "markdown",
   "metadata": {},
   "source": [
    "## Write the batch of AMPL files"
   ]
  },
  {
   "cell_type": "code",
   "execution_count": null,
   "metadata": {
    "collapsed": false,
    "scrolled": false
   },
   "outputs": [],
   "source": [
    "hexap_survey.write_ampl_batch(override_infile_status=True, overwrite=True)"
   ]
  },
  {
   "cell_type": "markdown",
   "metadata": {
    "collapsed": true
   },
   "source": [
    "## Write the design survey to spreadsheet"
   ]
  },
  {
   "cell_type": "code",
   "execution_count": null,
   "metadata": {
    "collapsed": false
   },
   "outputs": [],
   "source": [
    "hexap_survey.write_spreadsheet()"
   ]
  },
  {
   "cell_type": "code",
   "execution_count": null,
   "metadata": {
    "collapsed": false
   },
   "outputs": [],
   "source": [
    "hexap_survey.csv_fname"
   ]
  },
  {
   "cell_type": "code",
   "execution_count": null,
   "metadata": {
    "collapsed": true
   },
   "outputs": [],
   "source": []
  }
 ],
 "metadata": {
  "kernelspec": {
   "display_name": "Python 2",
   "language": "python",
   "name": "python2"
  },
  "language_info": {
   "codemirror_mode": {
    "name": "ipython",
    "version": 2
   },
   "file_extension": ".py",
   "mimetype": "text/x-python",
   "name": "python",
   "nbconvert_exporter": "python",
   "pygments_lexer": "ipython2",
   "version": "2.7.5"
  }
 },
 "nbformat": 4,
 "nbformat_minor": 0
}

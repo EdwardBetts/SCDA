{
 "cells": [
  {
   "cell_type": "code",
   "execution_count": null,
   "metadata": {
    "collapsed": false
   },
   "outputs": [],
   "source": [
    "import numpy as np\n",
    "from astropy.io import ascii\n",
    "import scipy.ndimage\n",
    "import matplotlib.pyplot as plt\n",
    "import os\n",
    "%pylab inline --no-import-all\n",
    "matplotlib.rcParams['image.origin'] = 'lower'\n",
    "matplotlib.rcParams['image.interpolation'] = 'nearest'\n",
    "matplotlib.rcParams['image.cmap'] = 'gray'"
   ]
  },
  {
   "cell_type": "code",
   "execution_count": null,
   "metadata": {
    "collapsed": true
   },
   "outputs": [],
   "source": [
    "TelAp_fname = \"/astro/opticslab1/SCDA/Apertures/STSCI/TelAp_quart_hex4X025sm1_N0300.dat\"\n",
    "FPM_fname = \"/astro/opticslab1/SCDA/Apertures/STSCI/FPM_quart_occspot_M050.dat\"\n",
    "\n",
    "# Working monochromatic solution produced by hex4_test_fullquad_mono.mod\n",
    "#LS_fname = \"/astro/opticslab1/SCDA/Apertures/STSCI/LS_quart_ann17D83_X025sm1Pad01_N0300.dat\"\n",
    "#apod_sol_fname = \"/astro/opticslab1/SCDA/Scripts/AMPL/hex4_design_test_ntz/hex4_test_fullquad_mono.dat\"\n",
    "\n",
    "# Failed monochromatic solution produced by hex4_test_mono.mod\n",
    "#LS_fname = \"/astro/opticslab1/SCDA/Apertures/STSCI/LS_quart_ann28D83_X025sm1Pad004_N0300.dat\"\n",
    "#apod_sol_fname = \"/astro/opticslab1/SCDA/Scripts/AMPL/hex4_design_test_ntz/hex4_test_mono.dat\"\n",
    "\n",
    "# Failed monochromatic solution produced by hex4_test_mono_v4.mod\n",
    "#LS_fname = \"/astro/opticslab1/SCDA/Apertures/STSCI/LS_quart_ann28D83_X025sm1Pad004_N0300.dat\"\n",
    "#apod_sol_fname = \"/astro/opticslab1/SCDA/Scripts/AMPL/hex4_design_test_ntz/hex4_test_mono_v4.dat\"\n",
    "\n",
    "# Working monochromatic solution produced by hex4_test_fullquad_mono_v2.mod\n",
    "#LS_fname = \"/astro/opticslab1/SCDA/Apertures/STSCI/LS_quart_ann28D83_X025sm1Pad004_N0300.dat\"\n",
    "#apod_sol_fname = \"/astro/opticslab1/SCDA/Scripts/AMPL/hex4_design_test_ntz/hex4_test_fullquad_mono_v2.dat\"\n",
    "\n",
    "# Working monochromatic solution produced by hex4_test_fullquad_mono_v3.mod\n",
    "#LS_fname = \"/astro/opticslab1/SCDA/Apertures/STSCI/LS_quart_ann28D83_X025sm1Pad004_N0300.dat\"\n",
    "#apod_sol_fname = \"/astro/opticslab1/SCDA/Scripts/AMPL/hex4_design_test_ntz/hex4_test_fullquad_mono_v3.dat\"\n",
    "\n",
    "# Working monochromatic solution produced by hex4_test_fullquad_mono_v4.mod\n",
    "#LS_fname = \"/astro/opticslab1/SCDA/Apertures/STSCI/LS_quart_ann25D90_hex4Pad05X025sm1Pad05_N0300.dat\"\n",
    "#apod_sol_fname = \"/astro/opticslab1/SCDA/Scripts/AMPL/hex4_design_test_ntz/hex4_test_fullquad_mono_v4.dat\"\n",
    "\n",
    "# Working monochromatic solution produced by hex4_test_mono_v6.mod\n",
    "#LS_fname = \"/astro/opticslab1/SCDA/Apertures/STSCI/LS_quart_ann25D90_hex4Pad05X025sm1Pad05_N0300.dat\"\n",
    "#apod_sol_fname = \"/astro/opticslab1/SCDA/Scripts/AMPL/hex4_design_test_ntz/hex4_test_mono_v6.dat\"\n",
    "\n",
    "# Somewhat gray monochromatic solution produced by hex4_test_mono_v7.mod\n",
    "#LS_fname = \"/astro/opticslab1/SCDA/Apertures/STSCI/LS_quart_ann25D90_hex4Pad05X025sm1Pad05_N0300.dat\"\n",
    "#apod_sol_fname = \"/astro/opticslab1/SCDA/Scripts/AMPL/hex4_design_test_ntz/hex4_test_mono_v7.dat\"\n",
    "## slightly closer to binary with barhomogeneous switch:\n",
    "#apod_sol_fname = \"/astro/opticslab1/SCDA/Scripts/AMPL/hex4_design_test_ntz/hex4_test_mono_v7_barhom.dat\"\n",
    "\n",
    "# Somewhat gray monochromatic solution produced by hex4_test_mono_v8.mod, using spider Lyot stop\n",
    "#LS_fname = \"/astro/opticslab1/SCDA/Apertures/STSCI/LS_quart_ann25D90_X025sm1Pad05_N0300.dat\"\n",
    "#apod_sol_fname = \"/astro/opticslab1/SCDA/Scripts/AMPL/hex4_design_test_ntz/hex4_test_mono_v8.dat\"\n",
    "\n",
    "# Working monochromatic solution produced by hex4_test_mono_v9.mod\n",
    "LS_fname = \"/astro/opticslab1/SCDA/Apertures/STSCI/LS_quart_ann25D90_X025sm1Pad05_N0300.dat\"\n",
    "apod_sol_fname = \"/astro/opticslab1/SCDA/Scripts/AMPL/hex4_design_test_ntz/hex4_test_mono_v9.dat\"\n",
    "\n",
    "# Broadband solution from March 15\n",
    "#apod_sol_fname = \"/astro/opticslab1/SCDA/Scripts/AMPL/hex4_design_test/ApodSol_APLC_quart_hex4X025sm1_N0300_FPM400M050_LSann17D83X025sm1Pad01_Img100C_35WA100CA100_BW10Nlam03fpres2_linbarhompre1.dat\""
   ]
  },
  {
   "cell_type": "code",
   "execution_count": null,
   "metadata": {
    "collapsed": true
   },
   "outputs": [],
   "source": [
    "TelAp = np.loadtxt(TelAp_fname)\n",
    "FPM = np.loadtxt(FPM_fname)\n",
    "LS = np.loadtxt(LS_fname)\n",
    "N = TelAp.shape[1]\n",
    "A = np.zeros((N,N))"
   ]
  },
  {
   "cell_type": "code",
   "execution_count": null,
   "metadata": {
    "collapsed": false
   },
   "outputs": [],
   "source": [
    "apod_sol = ascii.read(apod_sol_fname)\n",
    "for rr in range(N*N):\n",
    "    yi = rr / N\n",
    "    xi = rr % N\n",
    "    #xi = rr / N\n",
    "    #yi = rr % N\n",
    "    A[yi,xi] = apod_sol['col3'][rr]    \n",
    "#apod_sol_data_after = ascii.read(apod_sol_after_fname)\n",
    "#telap_data = ascii.read(telap_fname)"
   ]
  },
  {
   "cell_type": "code",
   "execution_count": null,
   "metadata": {
    "collapsed": false
   },
   "outputs": [],
   "source": [
    "#plt.figure(figsize=(12,12))\n",
    "#plt.imshow(TelAp)"
   ]
  },
  {
   "cell_type": "code",
   "execution_count": null,
   "metadata": {
    "collapsed": false
   },
   "outputs": [],
   "source": [
    "TelApZeroes = np.ones(TelAp.shape)\n",
    "#zero_ind = np.equal(TelAp,0)\n",
    "zero_ind = np.equal(np.floor(TelAp),0)\n",
    "TelApZeroes[zero_ind] = 0\n",
    "#plt.figure(figsize=(12,12))\n",
    "#plt.imshow(TelApZeroes)\n",
    "\n",
    "##LS = TelApZeroes"
   ]
  },
  {
   "cell_type": "code",
   "execution_count": null,
   "metadata": {
    "collapsed": false
   },
   "outputs": [],
   "source": [
    "#plt.figure(figsize=(12,12))\n",
    "#plt.imshow(A)"
   ]
  },
  {
   "cell_type": "markdown",
   "metadata": {},
   "source": [
    "## How close is the solution to a shaped pupil? Take the sum of the absolute differences from rounded integer version"
   ]
  },
  {
   "cell_type": "code",
   "execution_count": null,
   "metadata": {
    "collapsed": false
   },
   "outputs": [],
   "source": [
    "np.sum(np.abs(A - np.round(A)))"
   ]
  },
  {
   "cell_type": "code",
   "execution_count": null,
   "metadata": {
    "collapsed": false
   },
   "outputs": [],
   "source": [
    "plt.figure(figsize=(12,12))\n",
    "plt.imshow(A*TelAp - A)\n",
    "#plt.imshow(A*TelAp)"
   ]
  },
  {
   "cell_type": "code",
   "execution_count": null,
   "metadata": {
    "collapsed": false
   },
   "outputs": [],
   "source": [
    "plt.figure(figsize=(12,12))\n",
    "plt.imshow(LS,vmin=0.5,vmax=1)"
   ]
  },
  {
   "cell_type": "markdown",
   "metadata": {},
   "source": [
    "# Monochromatic PSF evaluation"
   ]
  },
  {
   "cell_type": "markdown",
   "metadata": {},
   "source": [
    "## Set dimensions and coordinates"
   ]
  },
  {
   "cell_type": "code",
   "execution_count": null,
   "metadata": {
    "collapsed": false
   },
   "outputs": [],
   "source": [
    "D = 1.\n",
    "M_fp1 = FPM.shape[0]\n",
    "fpm_rad = 4.\n",
    "rho1 = 10.\n",
    "fp2res = 8.\n",
    "M_fp2 = int(np.ceil(rho1*fp2res))\n",
    "\n",
    "# pupil plane\n",
    "dx = (D/2)/N\n",
    "dy = dx\n",
    "xs = np.matrix(np.linspace(0.5,N-0.5,N)*dx)\n",
    "ys = xs.copy()\n",
    "\n",
    "# FPM\n",
    "dmx = fpm_rad/M_fp1\n",
    "dmy = dmx\n",
    "mxs = np.matrix(np.linspace(0.5,M_fp1-0.5,M_fp1)*dmx)\n",
    "mys = mxs.copy()\n",
    "\n",
    "# FP2\n",
    "dxi = 1/fp2res\n",
    "xis = np.matrix(np.linspace(0.5,M_fp2-0.5,M_fp2)*dxi)\n",
    "etas = xis"
   ]
  },
  {
   "cell_type": "markdown",
   "metadata": {},
   "source": [
    "## Semi-analytical cosine propagation"
   ]
  },
  {
   "cell_type": "code",
   "execution_count": null,
   "metadata": {
    "collapsed": false
   },
   "outputs": [],
   "source": [
    "Psi_B = 4*dx*dy*np.dot(np.dot(np.cos(2*np.pi*np.dot(mys.T, ys)), A*TelAp ), np.cos(2*np.pi*np.dot(xs.T, mxs)))\n",
    "Psi_B_stop = np.multiply(Psi_B, FPM)\n",
    "Psi_C = A*TelAp - 4*dmx*dmy*np.dot(np.cos(2*np.pi*np.dot(ys.T, mys)), Psi_B_stop).dot(np.cos(2*np.pi*np.dot(mxs.T, xs)))\n",
    "Psi_C_stop = np.multiply(Psi_C, LS)\n",
    "Psi_D = 4*dx*dy*np.dot(np.cos(2*np.pi*np.dot(etas.T, ys)), Psi_C_stop ).dot(np.cos(2*np.pi*np.dot(xs.T, xis)))\n",
    "Psi_D_0 = 4*dx*dy*np.dot(np.cos(2*np.pi*np.dot(etas.T, ys)), A*TelAp*LS ).dot(np.cos(2*np.pi*np.dot(xs.T, xis)))\n",
    "Psi_D_0_peak = 4*np.sum(A*TelAp*LS)*dx*dy"
   ]
  },
  {
   "cell_type": "code",
   "execution_count": null,
   "metadata": {
    "collapsed": false
   },
   "outputs": [],
   "source": [
    "Intens_B = np.power(np.absolute(Psi_B_stop), 2)\n",
    "Intens_C = np.power(np.absolute(Psi_C_stop), 2)\n",
    "Intens_D = np.power(np.absolute(Psi_D/Psi_D_0_peak), 2)\n",
    "Intens_D_0 = np.power(np.absolute(Psi_D_0), 2)\n",
    "Intens_D_0_peak = Psi_D_0_peak**2"
   ]
  },
  {
   "cell_type": "markdown",
   "metadata": {},
   "source": [
    "## Final image"
   ]
  },
  {
   "cell_type": "code",
   "execution_count": null,
   "metadata": {
    "collapsed": false
   },
   "outputs": [],
   "source": [
    "plt.figure(figsize=(16,12))\n",
    "plt.imshow(np.log10(Intens_D), vmin=-12, vmax=-8)\n",
    "#plt.imshow(np.log10(Intens_D))\n",
    "plt.colorbar()\n",
    "ax = plt.gca()\n",
    "ax.set_xticks(np.arange(0,M_fp2,4))\n",
    "ax.set_xticklabels((np.arange(0,M_fp2,4)+0.5)*dxi)\n",
    "ax.set_yticks(np.arange(0,M_fp2,4))\n",
    "ax.set_yticklabels((np.arange(0,M_fp2,4)+0.5)*dxi)"
   ]
  },
  {
   "cell_type": "markdown",
   "metadata": {},
   "source": [
    "## Airy throughput"
   ]
  },
  {
   "cell_type": "code",
   "execution_count": null,
   "metadata": {
    "collapsed": false
   },
   "outputs": [],
   "source": [
    "Psi_TelAp = 4*dx*dy*np.dot(np.cos(2*np.pi*np.dot(etas.T, ys)), TelAp ).dot(np.cos(2*np.pi*np.dot(xs.T, xis)))\n",
    "Intens_TelAp = np.power(np.absolute(Psi_TelAp), 2)\n",
    "Intens_TelAp_peak = (4*np.sum(TelAp)*dx*dy)**2\n",
    "fwhm_ind_TelAp = np.greater_equal(Intens_TelAp, Intens_TelAp_peak/2)\n",
    "fwhm_ind_APLC = np.greater_equal(Intens_D_0, Intens_D_0_peak/2)\n",
    "\n",
    "fwhm_sum_TelAp = np.sum(Intens_TelAp[fwhm_ind_TelAp])\n",
    "fwhm_sum_APLC = np.sum(Intens_D_0[fwhm_ind_APLC])\n",
    "\n",
    "airy_thrupt = fwhm_sum_APLC/fwhm_sum_TelAp\n",
    "print(\"Airy throughput = {:.3f}\".format(airy_thrupt))\n",
    "\n",
    "plt.subplot(121)\n",
    "plt.imshow(Intens_D_0[:10,:10])\n",
    "plt.subplot(122)\n",
    "plt.imshow(Intens_TelAp[:10,:10])"
   ]
  },
  {
   "cell_type": "markdown",
   "metadata": {},
   "source": [
    "## First image"
   ]
  },
  {
   "cell_type": "code",
   "execution_count": null,
   "metadata": {
    "collapsed": false
   },
   "outputs": [],
   "source": [
    "#plt.figure(figsize=(16,12))\n",
    "#plt.imshow(np.log10(Intens_B),vmin=-6)\n",
    "#plt.colorbar()"
   ]
  },
  {
   "cell_type": "markdown",
   "metadata": {},
   "source": [
    "## Lyot plane"
   ]
  },
  {
   "cell_type": "code",
   "execution_count": null,
   "metadata": {
    "collapsed": false
   },
   "outputs": [],
   "source": [
    "plt.figure(figsize=(16,12))\n",
    "plt.imshow(np.log10(Intens_C))\n",
    "plt.colorbar()"
   ]
  },
  {
   "cell_type": "code",
   "execution_count": null,
   "metadata": {
    "collapsed": true
   },
   "outputs": [],
   "source": []
  }
 ],
 "metadata": {
  "kernelspec": {
   "display_name": "Python 2",
   "language": "python",
   "name": "python2"
  },
  "language_info": {
   "codemirror_mode": {
    "name": "ipython",
    "version": 2
   },
   "file_extension": ".py",
   "mimetype": "text/x-python",
   "name": "python",
   "nbconvert_exporter": "python",
   "pygments_lexer": "ipython2",
   "version": "2.7.5"
  }
 },
 "nbformat": 4,
 "nbformat_minor": 0
}

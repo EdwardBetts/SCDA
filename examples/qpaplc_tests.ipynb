{
 "cells": [
  {
   "cell_type": "code",
   "execution_count": 1,
   "metadata": {
    "collapsed": false
   },
   "outputs": [
    {
     "name": "stdout",
     "output_type": "stream",
     "text": [
      "Populating the interactive namespace from numpy and matplotlib\n"
     ]
    }
   ],
   "source": [
    "import scda\n",
    "import os\n",
    "import shutil\n",
    "import numpy as np\n",
    "\n",
    "import matplotlib.pyplot as plt\n",
    "%pylab inline --no-import-all\n",
    "matplotlib.rcParams['image.origin'] = 'lower'\n",
    "matplotlib.rcParams['image.interpolation'] = 'nearest'\n",
    "matplotlib.rcParams['image.cmap'] = 'gray'\n",
    "matplotlib.rcParams['axes.linewidth'] = 1.\n",
    "matplotlib.rcParams['lines.linewidth'] = 2.5\n",
    "matplotlib.rcParams['font.size'] = 12\n",
    "\n",
    "import logging\n",
    "#scda.configure_log()"
   ]
  },
  {
   "cell_type": "code",
   "execution_count": 2,
   "metadata": {
    "collapsed": false
   },
   "outputs": [
    {
     "data": {
      "text/plain": [
       "'/Users/ntz/SCDA/scda_pytools/examples'"
      ]
     },
     "execution_count": 2,
     "metadata": {},
     "output_type": "execute_result"
    }
   ],
   "source": [
    "os.getcwd()"
   ]
  },
  {
   "cell_type": "markdown",
   "metadata": {},
   "source": [
    "# Single APLC design evaluation, without LS alignment tolerance"
   ]
  },
  {
   "cell_type": "markdown",
   "metadata": {},
   "source": [
    "## Set the design parameters"
   ]
  },
  {
   "cell_type": "code",
   "execution_count": 3,
   "metadata": {
    "collapsed": false
   },
   "outputs": [],
   "source": [
    "pupil_params = {'N': 500, 'prim':'hex3', 'centobs':True, 'secobs':'X', 'thick':'025'}\n",
    "fpm_params = {'rad': 4., 'M':60}\n",
    "ls_params_noaligntol = {'obscure':0, 'id':25, 'od':80, 'aligntol':None}\n",
    "#ls_params_noaligntol = {'obscure':1, 'id':25, 'od':83, 'spad':5, 'aligntol':None}\n",
    "image_params = {'c': 10., 'ida':3.5, 'oda':10., 'bw':0., 'Nlam':1, 'fpres':2}"
   ]
  },
  {
   "cell_type": "code",
   "execution_count": 4,
   "metadata": {
    "collapsed": false
   },
   "outputs": [],
   "source": [
    "#work_dir = \".\"\n",
    "work_dir = \"/astro/opticslab1/SCDA/Scripts/AMPL/scda_qpaplc_tests/\"\n",
    "if not os.path.exists(os.path.normpath(work_dir)):\n",
    "    os.mkdir(work_dir)\n",
    "#input_dir = \"./InputMasks\" # location of input TelAp, FPM, and LS arrays\n",
    "input_dir = \"/astro/opticslab1/SCDA/Scripts/AMPL/scda_qpaplc_tests/InputMasks/\"\n",
    "TelAp_dir = os.path.join(input_dir, \"TelAp\")\n",
    "FPM_dir = os.path.join(input_dir, \"FPM\")\n",
    "LS_dir = os.path.join(input_dir, \"LS\")"
   ]
  },
  {
   "cell_type": "code",
   "execution_count": 5,
   "metadata": {
    "collapsed": false
   },
   "outputs": [],
   "source": [
    "design_params_noaligntol = {'Pupil': pupil_params, 'FPM': fpm_params,\n",
    "                            'LS': ls_params_noaligntol, 'Image': image_params}\n",
    "fileorg = {'work dir': work_dir, 'TelAp dir': TelAp_dir,\n",
    "           'FPM dir': FPM_dir, 'LS dir': LS_dir}\n",
    "bar_solver = {'method': 'bar'}\n",
    "barhom_solver = {'method': 'barhom', 'convtol': 9.}\n",
    "#dualsimp_solver = {'method': 'dualsimp'}\n",
    "#barhom_solver = {'method': 'barhom'}"
   ]
  },
  {
   "cell_type": "markdown",
   "metadata": {},
   "source": [
    "## Initiate the coronagraph object"
   ]
  },
  {
   "cell_type": "code",
   "execution_count": 6,
   "metadata": {
    "collapsed": false
   },
   "outputs": [],
   "source": [
    "hexap_coron = scda.QuarterplaneAPLC(design=design_params_noaligntol, fileorg=fileorg, solver=barhom_solver)"
   ]
  },
  {
   "cell_type": "markdown",
   "metadata": {},
   "source": [
    "## Show the file organization"
   ]
  },
  {
   "cell_type": "code",
   "execution_count": 7,
   "metadata": {
    "collapsed": false
   },
   "outputs": [
    {
     "data": {
      "text/plain": [
       "{'FPM dir': '/astro/opticslab1/SCDA/Scripts/AMPL/scda_qpaplc_tests/InputMasks/FPM',\n",
       " 'FPM fname': '/astro/opticslab1/SCDA/Scripts/AMPL/scda_qpaplc_tests/InputMasks/FPM/FPM_quart_occspot_M060.dat',\n",
       " 'LS dir': '/astro/opticslab1/SCDA/Scripts/AMPL/scda_qpaplc_tests/InputMasks/LS',\n",
       " 'LS fname': '/astro/opticslab1/SCDA/Scripts/AMPL/scda_qpaplc_tests/InputMasks/LS/LS_quart_ann25D80_clear_N0500.dat',\n",
       " 'TelAp dir': '/astro/opticslab1/SCDA/Scripts/AMPL/scda_qpaplc_tests/InputMasks/TelAp',\n",
       " 'TelAp fname': '/astro/opticslab1/SCDA/Scripts/AMPL/scda_qpaplc_tests/InputMasks/TelAp/TelAp_quart_hex3X025cobs1_N0500.dat',\n",
       " 'ampl src dir': '/astro/opticslab1/SCDA/Scripts/AMPL/scda_qpaplc_tests/',\n",
       " 'ampl src fname': '/astro/opticslab1/SCDA/Scripts/AMPL/scda_qpaplc_tests/APLC_quart_hex3X025cobs1_N0500_FPM400M060_LSann25D80clear_Img100C_75DA100_BW00Nlam01fpres2_linbarhompre1convtol90.mod',\n",
       " 'eval dir': '/astro/opticslab1/SCDA/Scripts/AMPL/scda_qpaplc_tests/',\n",
       " 'exec script dir': '/astro/opticslab1/SCDA/Scripts/AMPL/scda_qpaplc_tests/',\n",
       " 'exec script fname': '/astro/opticslab1/SCDA/Scripts/AMPL/scda_qpaplc_tests/APLC_quart_hex3X025cobs1_N0500_FPM400M060_LSann25D80clear_Img100C_75DA100_BW00Nlam01fpres2_linbarhompre1convtol90.sh',\n",
       " 'job name': 'APLC_quart_hex3X025cobs1_N0500_FPM400M060_LSann25D80clear_Img100C_75DA100_BW00Nlam01fpres2_linbarhompre1convtol90',\n",
       " 'log dir': '/astro/opticslab1/SCDA/Scripts/AMPL/scda_qpaplc_tests/',\n",
       " 'log fname': '/astro/opticslab1/SCDA/Scripts/AMPL/scda_qpaplc_tests/APLC_quart_hex3X025cobs1_N0500_FPM400M060_LSann25D80clear_Img100C_75DA100_BW00Nlam01fpres2_linbarhompre1convtol90.log',\n",
       " 'sol dir': '/astro/opticslab1/SCDA/Scripts/AMPL/scda_qpaplc_tests/',\n",
       " 'sol fname': '/astro/opticslab1/SCDA/Scripts/AMPL/scda_qpaplc_tests/ApodSol_APLC_quart_hex3X025cobs1_N0500_FPM400M060_LSann25D80clear_Img100C_75DA100_BW00Nlam01fpres2_linbarhompre1convtol90.dat',\n",
       " 'work dir': '/astro/opticslab1/SCDA/Scripts/AMPL/scda_qpaplc_tests/'}"
      ]
     },
     "execution_count": 7,
     "metadata": {},
     "output_type": "execute_result"
    }
   ],
   "source": [
    "hexap_coron.fileorg"
   ]
  },
  {
   "cell_type": "markdown",
   "metadata": {},
   "source": [
    "### Check the status of input files needed to run the AMPL program"
   ]
  },
  {
   "cell_type": "code",
   "execution_count": 8,
   "metadata": {
    "collapsed": false
   },
   "outputs": [
    {
     "name": "stdout",
     "output_type": "stream",
     "text": [
      "All the input files for AMPL are in place? False\n"
     ]
    }
   ],
   "source": [
    "hexap_coron.check_ampl_input_files()\n",
    "print(\"All the input files for AMPL are in place? {0:}\".format(hexap_coron.ampl_infile_status))"
   ]
  },
  {
   "cell_type": "markdown",
   "metadata": {},
   "source": [
    "## Write the AMPL source file"
   ]
  },
  {
   "cell_type": "code",
   "execution_count": 9,
   "metadata": {
    "collapsed": false,
    "scrolled": false
   },
   "outputs": [
    {
     "name": "stderr",
     "output_type": "stream",
     "text": [
      "ERROR:root:Error: the most recent input file check for this design configuration failed.\n",
      "ERROR:root:The override_infile_status switch is off, so write_ampl() will now abort.\n",
      "ERROR:root:See previous warnings in the log to see what file was missing during the initialization\n"
     ]
    }
   ],
   "source": [
    "hexap_coron.write_ampl(override_infile_status=False, overwrite=True)"
   ]
  },
  {
   "cell_type": "markdown",
   "metadata": {},
   "source": [
    "## Create a bundled source + input file subdirectory for both designs"
   ]
  },
  {
   "cell_type": "code",
   "execution_count": null,
   "metadata": {
    "collapsed": false
   },
   "outputs": [],
   "source": [
    "bundled_dir = os.path.join(hexap_coron.fileorg['work dir'], \"qpaplc_ampl_bundle\")\n",
    "#bundled_coron_list = scda.make_ampl_bundle([hexap_coron_noaligntol, hexap_coron_aligntol], bundled_dir)\n",
    "#os.listdir(bundled_dir)"
   ]
  },
  {
   "cell_type": "markdown",
   "metadata": {
    "collapsed": true
   },
   "source": [
    "## Evaluate basic coronagraph metrics"
   ]
  },
  {
   "cell_type": "code",
   "execution_count": null,
   "metadata": {
    "collapsed": false
   },
   "outputs": [],
   "source": [
    "hexap_coron.get_metrics()"
   ]
  },
  {
   "cell_type": "markdown",
   "metadata": {
    "collapsed": true
   },
   "source": [
    "# Full-plane on-axis PSF evaluation"
   ]
  },
  {
   "cell_type": "markdown",
   "metadata": {},
   "source": [
    "### Reset input file locations, in case out of STScI network"
   ]
  },
  {
   "cell_type": "code",
   "execution_count": null,
   "metadata": {
    "collapsed": true
   },
   "outputs": [],
   "source": [
    "#hexap_coron.fileorg['TelAp fname'] = os.path.join(os.path.expanduser(\"~/Box Sync/scda/InputMasks/TelAp\"),\n",
    "#                                                  os.path.basename(hexap_coron.fileorg['TelAp fname']))\n",
    "\n",
    "#hexap_coron.fileorg['FPM fname'] = os.path.join(os.path.expanduser(\"~/Box Sync/scda/InputMasks/FPM\"),\n",
    "#                                                os.path.basename(hexap_coron.fileorg['FPM fname']))\n",
    "\n",
    "#hexap_coron.fileorg['LS fname'] = os.path.join(os.path.expanduser(\"~/Box Sync/scda/InputMasks/LS\"),\n",
    "#                                               os.path.basename(hexap_coron.fileorg['LS fname']))"
   ]
  },
  {
   "cell_type": "markdown",
   "metadata": {},
   "source": [
    "### Load and reorganize mask arrays"
   ]
  },
  {
   "cell_type": "code",
   "execution_count": null,
   "metadata": {
    "collapsed": false
   },
   "outputs": [],
   "source": [
    "TelAp_qp = np.loadtxt(hexap_coron.fileorg['TelAp fname'])\n",
    "TelAp = np.concatenate((np.concatenate((TelAp_qp[::-1,::-1], TelAp_qp[:,::-1]),axis=0),\n",
    "                        np.concatenate((TelAp_qp[::-1,:], TelAp_qp),axis=0)), axis=1)\n",
    "\n",
    "FPM_qp = np.loadtxt(hexap_coron.fileorg['FPM fname'])\n",
    "FPM = np.concatenate((np.concatenate((FPM_qp[::-1,::-1], FPM_qp[:,::-1]),axis=0),\n",
    "                      np.concatenate((FPM_qp[::-1,:], FPM_qp),axis=0)), axis=1)\n",
    "\n",
    "LS_qp = np.loadtxt(hexap_coron.fileorg['LS fname'])\n",
    "LS = np.concatenate((np.concatenate((LS_qp[::-1,::-1], LS_qp[:,::-1]),axis=0),\n",
    "                     np.concatenate((LS_qp[::-1,:], LS_qp),axis=0)), axis=1)\n",
    "\n",
    "#new_sol_fname = os.path.join(hexap_coron.fileorg['sol dir'],\n",
    "#                             \"ApodSol_APLC_quart_hex3X025cobs1_N0250_FPM400M050_LSann25D85clear_Img100C_35DA080_BW10Nlam03fpres2_linbarhompre1convtol2e9.dat\")\n",
    "#                             \"ApodSol_APLC_quart_hex3X025cobs1_N0125_FPM400M050_LSann25D85clear_Img100C_35DA080_BW10Nlam03fpres2_linbarhompre1_convtol1e9.dat\")\n",
    "#                             \"ApodSol_APLC_quart_hex3X025cobs1_N0125_FPM400M050_LSann25D85clear_Img100C_35DA080_BW10Nlam03fpres2_linbarpre1_ftol.dat\")\n",
    "#hexap_coron.fileorg['sol fname'] = new_sol_fname\n",
    "#hexap_coron.design['Image']['bw'] = 0.10\n",
    "\n",
    "A_col = np.loadtxt(hexap_coron.fileorg['sol fname'])[:,-1]\n",
    "A_qp = A_col.reshape(TelAp_qp.shape)\n",
    "A = np.concatenate((np.concatenate((A_qp[::-1,::-1], A_qp[:,::-1]),axis=0),\n",
    "                    np.concatenate((A_qp[::-1,:], A_qp),axis=0)), axis=1)\n",
    "\n",
    "plt.figure(figsize=(8,8))\n",
    "plt.imshow(A*TelAp)"
   ]
  },
  {
   "cell_type": "code",
   "execution_count": null,
   "metadata": {
    "collapsed": false
   },
   "outputs": [],
   "source": [
    "psf_img_polychrom, radial_seps, radial_psf_profile_polychrom = hexap_coron.eval_onax_psf(Nlam=1)"
   ]
  },
  {
   "cell_type": "code",
   "execution_count": null,
   "metadata": {
    "collapsed": false,
    "scrolled": true
   },
   "outputs": [],
   "source": [
    "plt.figure(figsize=(10,8))\n",
    "plt.imshow(np.log10(psf_img_polychrom[-2]), vmin=-11, vmax=-7, cmap='CMRmap')\n",
    "plt.colorbar()"
   ]
  },
  {
   "cell_type": "markdown",
   "metadata": {},
   "source": [
    "## Radial PSF profile"
   ]
  },
  {
   "cell_type": "code",
   "execution_count": null,
   "metadata": {
    "collapsed": false
   },
   "outputs": [],
   "source": [
    "plt.figure(figsize=(10,8))\n",
    "plt.plot(radial_seps, np.log10(radial_psf_profile_polychrom[0,:]))\n",
    "plt.plot(radial_seps, np.log10(radial_psf_profile_polychrom[radial_psf_profile_polychrom.shape[0]/2,:]))\n",
    "plt.plot(radial_seps, np.log10(radial_psf_profile_polychrom[-1,:]))\n",
    "plt.legend(['blue','center','red'], loc='upper left')\n",
    "plt.xlabel('angular sep. (lambda_0/D)')\n",
    "plt.ylabel('log10(I/I0)')"
   ]
  },
  {
   "cell_type": "code",
   "execution_count": null,
   "metadata": {
    "collapsed": false
   },
   "outputs": [],
   "source": [
    "radial_psf_profile_polychrom[-1,0]"
   ]
  },
  {
   "cell_type": "code",
   "execution_count": null,
   "metadata": {
    "collapsed": true
   },
   "outputs": [],
   "source": []
  },
  {
   "cell_type": "code",
   "execution_count": null,
   "metadata": {
    "collapsed": true
   },
   "outputs": [],
   "source": []
  }
 ],
 "metadata": {
  "kernelspec": {
   "display_name": "Python 2",
   "language": "python",
   "name": "python2"
  },
  "language_info": {
   "codemirror_mode": {
    "name": "ipython",
    "version": 2
   },
   "file_extension": ".py",
   "mimetype": "text/x-python",
   "name": "python",
   "nbconvert_exporter": "python",
   "pygments_lexer": "ipython2",
   "version": "2.7.5"
  }
 },
 "nbformat": 4,
 "nbformat_minor": 0
}

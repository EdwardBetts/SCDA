{
 "cells": [
  {
   "cell_type": "code",
   "execution_count": 1,
   "metadata": {
    "collapsed": false
   },
   "outputs": [],
   "source": [
    "import scda\n",
    "import pprint\n",
    "import logging\n",
    "import os\n",
    "import numpy as np\n",
    "scda.configure_log()"
   ]
  },
  {
   "cell_type": "markdown",
   "metadata": {},
   "source": [
    "# Prepare a design survey test to run on NCCS Discover"
   ]
  },
  {
   "cell_type": "code",
   "execution_count": 28,
   "metadata": {
    "collapsed": false
   },
   "outputs": [],
   "source": [
    "survey_params = {'Pupil': { 'prim': ['hex1', 'hex2', 'hex3', 'hex4'],\n",
    "                            'secobs': 'X', 'thick': '025', \n",
    "                            'centobs': True, 'N': 125 },\n",
    "                 'FPM': { 'rad': [3.0, 4.0, 5.0], 'M':60 },\n",
    "                 'LS': { 'shape':'ann', 'obscure':0, 'aligntol':5, 'aligntolcon':3., \n",
    "                         'id':[20, 25, 30], 'od':[76, 78, 80, 82] },\n",
    "                 'Image': { 'ida':-0.5, 'bw':[0.10, 0.15, 0.20] }}"
   ]
  },
  {
   "cell_type": "code",
   "execution_count": 29,
   "metadata": {
    "collapsed": false
   },
   "outputs": [
    {
     "name": "stdout",
     "output_type": "stream",
     "text": [
      "Created survey directory /astro/opticslab1/SCDA/Scripts/AMPL/nccs_april_survey01\n"
     ]
    }
   ],
   "source": [
    "#survey_dir = os.path.normpath(\"./nccs_survey/\")\n",
    "survey_dir = os.path.normpath(\"/astro/opticslab1/SCDA/Scripts/AMPL/nccs_april_survey01\")\n",
    "if not os.path.exists(survey_dir):\n",
    "    os.mkdir(survey_dir)\n",
    "    print(\"Created survey directory {:s}\".format(survey_dir))\n",
    "else:\n",
    "    print(\"The survey directory {:s} already exists\".format(survey_dir))\n",
    "\n",
    "os.chdir(survey_dir)\n",
    "ampl_src_dir = os.path.normpath(\"./amplsrc\")\n",
    "sol_dir = os.path.normpath(\"./solutions\")\n",
    "log_dir = os.path.normpath(\"./logs\")\n",
    "TelAp_dir = os.path.normpath(\"../InputMasks/TelAp\")\n",
    "LS_dir = os.path.normpath(\"../InputMasks/LS\")\n",
    "FPM_dir = os.path.normpath(\"../InputMasks/FPM\")\n",
    "\n",
    "fileorg = {'work dir':survey_dir, 'ampl src dir':ampl_src_dir, 'log dir':log_dir, 'sol dir':sol_dir,\n",
    "           'TelAp dir':TelAp_dir, 'LS dir':LS_dir, 'FPM dir':FPM_dir}"
   ]
  },
  {
   "cell_type": "code",
   "execution_count": 30,
   "metadata": {
    "collapsed": false
   },
   "outputs": [
    {
     "data": {
      "text/plain": [
       "{'FPM dir': '../InputMasks/FPM',\n",
       " 'LS dir': '../InputMasks/LS',\n",
       " 'TelAp dir': '../InputMasks/TelAp',\n",
       " 'ampl src dir': 'amplsrc',\n",
       " 'log dir': 'logs',\n",
       " 'sol dir': 'solutions',\n",
       " 'work dir': '/astro/opticslab1/SCDA/Scripts/AMPL/nccs_april_survey01'}"
      ]
     },
     "execution_count": 30,
     "metadata": {},
     "output_type": "execute_result"
    }
   ],
   "source": [
    "fileorg"
   ]
  },
  {
   "cell_type": "markdown",
   "metadata": {},
   "source": [
    "## Initiate a survey object with the above parameter combinations "
   ]
  },
  {
   "cell_type": "code",
   "execution_count": 31,
   "metadata": {
    "collapsed": false
   },
   "outputs": [
    {
     "name": "stderr",
     "output_type": "stream",
     "text": [
      "WARNING:root:Warning: The specified location of 'sol dir', \"solutions\" does not exist\n",
      "WARNING:root:Warning: The specified location of 'ampl src dir', \"amplsrc\" does not exist\n",
      "WARNING:root:Warning: The specified location of 'log dir', \"logs\" does not exist\n"
     ]
    },
    {
     "name": "stdout",
     "output_type": "stream",
     "text": [
      "This survey has 432 design parameter combinations.\n",
      "5 parameters are varied: (('Pupil', 'prim'), ('FPM', 'rad'), ('LS', 'id'), ('LS', 'od'), ('Image', 'bw'))\n"
     ]
    }
   ],
   "source": [
    "hexap_survey = scda.DesignParamSurvey(scda.QuarterplaneAPLC, survey_params, fileorg=fileorg)\n",
    "print(\"This survey has {0:d} design parameter combinations.\".format(hexap_survey.N_combos))\n",
    "print(\"{0:d} parameters are varied: {1}\".format(len(hexap_survey.varied_param_index), hexap_survey.varied_param_index))"
   ]
  },
  {
   "cell_type": "code",
   "execution_count": 32,
   "metadata": {
    "collapsed": false
   },
   "outputs": [
    {
     "data": {
      "text/plain": [
       "'/astro/opticslab1/SCDA/Scripts/AMPL/nccs_april_survey01'"
      ]
     },
     "execution_count": 32,
     "metadata": {},
     "output_type": "execute_result"
    }
   ],
   "source": [
    "os.getcwd()"
   ]
  },
  {
   "cell_type": "markdown",
   "metadata": {},
   "source": [
    "## Show the file organization scheme"
   ]
  },
  {
   "cell_type": "code",
   "execution_count": 33,
   "metadata": {
    "collapsed": false
   },
   "outputs": [
    {
     "name": "stdout",
     "output_type": "stream",
     "text": [
      "{'FPM dir': '../InputMasks/FPM',\n",
      " 'LS dir': '../InputMasks/LS',\n",
      " 'TelAp dir': '../InputMasks/TelAp',\n",
      " 'ampl src dir': 'amplsrc',\n",
      " 'eval dir': '/astro/opticslab1/SCDA/Scripts/AMPL/nccs_april_survey01',\n",
      " 'exec script dir': '/astro/opticslab1/SCDA/Scripts/AMPL/nccs_april_survey01',\n",
      " 'log dir': 'logs',\n",
      " 'sol dir': 'solutions',\n",
      " 'work dir': '/astro/opticslab1/SCDA/Scripts/AMPL/nccs_april_survey01'}\n"
     ]
    }
   ],
   "source": [
    "pprint.pprint(hexap_survey.fileorg)"
   ]
  },
  {
   "cell_type": "markdown",
   "metadata": {},
   "source": [
    "## Show some attributes of an individual coronagraph object"
   ]
  },
  {
   "cell_type": "code",
   "execution_count": 34,
   "metadata": {
    "collapsed": false
   },
   "outputs": [
    {
     "name": "stdout",
     "output_type": "stream",
     "text": [
      "Telescope aperture file for design #1: ../InputMasks/TelAp/TelAp_quart_hex1X025cobs1_N0125.dat\n",
      "Focal plane mask file for design #1: ../InputMasks/FPM/FPM_quart_occspot_M060.dat\n",
      "Lyot stop file for design #1: ../InputMasks/LS/LS_quart_ann20D76_clear_N0125.dat\n"
     ]
    }
   ],
   "source": [
    "#i = 100\n",
    "i = 0\n",
    "print(\"Telescope aperture file for design #{:d}: {:s}\".format(i+1, hexap_survey.coron_list[i].fileorg['TelAp fname']))\n",
    "print(\"Focal plane mask file for design #{:d}: {:s}\".format(i+1, hexap_survey.coron_list[i].fileorg['FPM fname']))\n",
    "print(\"Lyot stop file for design #{:d}: {:s}\".format(i+1, hexap_survey.coron_list[i].fileorg['LS fname']))"
   ]
  },
  {
   "cell_type": "markdown",
   "metadata": {},
   "source": [
    "### Check the status of input files needed to run the AMPL program"
   ]
  },
  {
   "cell_type": "code",
   "execution_count": 35,
   "metadata": {
    "collapsed": false
   },
   "outputs": [
    {
     "data": {
      "text/plain": [
       "False"
      ]
     },
     "execution_count": 35,
     "metadata": {},
     "output_type": "execute_result"
    }
   ],
   "source": [
    "hexap_survey.check_ampl_input_files()"
   ]
  },
  {
   "cell_type": "markdown",
   "metadata": {},
   "source": [
    "## List the varying parameter combinations"
   ]
  },
  {
   "cell_type": "code",
   "execution_count": null,
   "metadata": {
    "collapsed": false
   },
   "outputs": [],
   "source": [
    "# pprint.pprint(hexap_survey.varied_param_combos)"
   ]
  },
  {
   "cell_type": "markdown",
   "metadata": {},
   "source": [
    "## Write the batch of AMPL files"
   ]
  },
  {
   "cell_type": "code",
   "execution_count": null,
   "metadata": {
    "collapsed": false,
    "scrolled": false
   },
   "outputs": [],
   "source": [
    "hexap_survey.write_ampl_batch(override_infile_status=True, overwrite=True)"
   ]
  },
  {
   "cell_type": "markdown",
   "metadata": {},
   "source": [
    "## Write the batch of queue execution scripts"
   ]
  },
  {
   "cell_type": "code",
   "execution_count": null,
   "metadata": {
    "collapsed": false,
    "scrolled": false
   },
   "outputs": [],
   "source": [
    "hexap_survey.write_exec_script_batch(overwrite=True)"
   ]
  },
  {
   "cell_type": "markdown",
   "metadata": {
    "collapsed": true
   },
   "source": [
    "## Write tables summarizing the design survey configuration and status to a spreadsheet"
   ]
  },
  {
   "cell_type": "code",
   "execution_count": null,
   "metadata": {
    "collapsed": false
   },
   "outputs": [],
   "source": [
    "hexap_survey.write_spreadsheet()"
   ]
  },
  {
   "cell_type": "markdown",
   "metadata": {},
   "source": [
    "## Store the design survey as a serialized python object"
   ]
  },
  {
   "cell_type": "code",
   "execution_count": null,
   "metadata": {
    "collapsed": false
   },
   "outputs": [],
   "source": [
    "hexap_survey.write()"
   ]
  },
  {
   "cell_type": "markdown",
   "metadata": {},
   "source": [
    "## Load an existing design survey"
   ]
  },
  {
   "cell_type": "code",
   "execution_count": null,
   "metadata": {
    "collapsed": false
   },
   "outputs": [],
   "source": [
    "mysurvey = scda.load_design_param_survey(hexap_survey.fileorg['survey fname'])"
   ]
  },
  {
   "cell_type": "code",
   "execution_count": null,
   "metadata": {
    "collapsed": true
   },
   "outputs": [],
   "source": []
  }
 ],
 "metadata": {
  "kernelspec": {
   "display_name": "Python 2",
   "language": "python",
   "name": "python2"
  },
  "language_info": {
   "codemirror_mode": {
    "name": "ipython",
    "version": 2
   },
   "file_extension": ".py",
   "mimetype": "text/x-python",
   "name": "python",
   "nbconvert_exporter": "python",
   "pygments_lexer": "ipython2",
   "version": "2.7.5"
  }
 },
 "nbformat": 4,
 "nbformat_minor": 0
}

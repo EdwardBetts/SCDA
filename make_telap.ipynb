{
 "cells": [
  {
   "cell_type": "code",
   "execution_count": 66,
   "metadata": {
    "collapsed": false
   },
   "outputs": [
    {
     "name": "stdout",
     "output_type": "stream",
     "text": [
      "Populating the interactive namespace from numpy and matplotlib\n"
     ]
    }
   ],
   "source": [
    "import numpy as np\n",
    "import skimage.transform\n",
    "import astropy.io.fits as fits\n",
    "import matplotlib.pyplot as plt\n",
    "import os\n",
    "%pylab inline --no-import-all\n",
    "matplotlib.rcParams['image.origin'] = 'lower'\n",
    "matplotlib.rcParams['image.interpolation'] = 'nearest' \n",
    "matplotlib.rcParams['image.cmap'] = 'gray'"
   ]
  },
  {
   "cell_type": "markdown",
   "metadata": {},
   "source": [
    "## Dictionary to map file keys from STScI to Krist"
   ]
  },
  {
   "cell_type": "code",
   "execution_count": 67,
   "metadata": {
    "collapsed": true
   },
   "outputs": [],
   "source": [
    "telap_key_map = {'hex1':'hex1', 'hex2':'hex2', 'hex3':'hex3', 'hex4':'hex4',\n",
    "                 'key24':'keystone24', 'pie08':'piewedge8', 'pie12':'piewedge12'}\n",
    "secobs_key_map = {'Cross':'cross', 'X':'x'}"
   ]
  },
  {
   "cell_type": "markdown",
   "metadata": {},
   "source": [
    "## set directory of telescope aperture and list contents"
   ]
  },
  {
   "cell_type": "code",
   "execution_count": 68,
   "metadata": {
    "collapsed": false,
    "scrolled": true
   },
   "outputs": [
    {
     "name": "stdout",
     "output_type": "stream",
     "text": [
      "/astro/opticslab1/SCDA/Apertures/JPL/offset_masks\n",
      "Contents:\n"
     ]
    },
    {
     "data": {
      "text/plain": [
       "['t_spiders_2000pix_2.5cm_offset.fits',\n",
       " 'y_spiders_60deg_2000pix_2.5cm_offset.fits',\n",
       " 't_spiders_1000pix_10.0cm_offset.fits',\n",
       " 'cross_spiders_1000pix_2.5cm_offset.fits',\n",
       " 'y_spiders_60deg_1000pix_2.5cm_offset.fits',\n",
       " 'hex2_1000pix_offset.fits',\n",
       " 'y_spiders_60deg_1000pix_10.0cm_offset.fits',\n",
       " 'offset_y_spiders_60deg_1000pix_10.0cm_offset.fits',\n",
       " 'x_spiders_1000pix_10.0cm_offset.fits',\n",
       " 'y_spiders_60deg_2000pix_10.0cm_offset.fits',\n",
       " 'y_spiders_90deg_2000pix_10.0cm_offset.fits',\n",
       " 'x_spiders_2000pix_10.0cm_offset.fits',\n",
       " 'keystone24_2000pix_offset.fits',\n",
       " 'offset_y_spiders_60deg_2000pix_10.0cm_offset.fits',\n",
       " 'offset_y_spiders_60deg_1000pix_2.5cm_offset.fits',\n",
       " 'piewedge8_2000pix_offset.fits',\n",
       " 'cross_spiders_2000pix_10.0cm_offset.fits',\n",
       " 'piewedge12_1000pix_offset.fits',\n",
       " 'x_spiders_1000pix_2.5cm_offset.fits',\n",
       " 'hex2_2000pix_offset.fits',\n",
       " 'y_spiders_90deg_1000pix_10.0cm_offset.fits',\n",
       " 't_spiders_1000pix_2.5cm_offset.fits',\n",
       " 'y_spiders_90deg_1000pix_2.5cm_offset.fits',\n",
       " 'cross_spiders_1000pix_10.0cm_offset.fits',\n",
       " 't_spiders_2000pix_10.0cm_offset.fits',\n",
       " 'x_spiders_2000pix_2.5cm_offset.fits',\n",
       " 'hex1_2000pix_offset.fits',\n",
       " 'cross_spiders_2000pix_2.5cm_offset.fits',\n",
       " 'offset_y_spiders_60deg_2000pix_2.5cm_offset.fits',\n",
       " 'piewedge12_2000pix_offset.fits',\n",
       " 'hex4_2000pix_offset.fits',\n",
       " 'hex1_1000pix_offset.fits',\n",
       " 'hex3_1000pix_offset.fits',\n",
       " 'hex3_2000pix_offset.fits',\n",
       " 'piewedge8_1000pix_offset.fits',\n",
       " 'keystone24_1000pix_offset.fits',\n",
       " 'hex4_1000pix_offset.fits',\n",
       " 'y_spiders_90deg_2000pix_2.5cm_offset.fits',\n",
       " '._t_spiders_2000pix_2.5cm_offset.fits',\n",
       " '._y_spiders_60deg_2000pix_2.5cm_offset.fits',\n",
       " '._t_spiders_1000pix_10.0cm_offset.fits',\n",
       " '._cross_spiders_1000pix_2.5cm_offset.fits',\n",
       " '._y_spiders_60deg_1000pix_2.5cm_offset.fits',\n",
       " '._hex2_1000pix_offset.fits',\n",
       " '._y_spiders_60deg_1000pix_10.0cm_offset.fits',\n",
       " '._offset_y_spiders_60deg_1000pix_10.0cm_offset.fits',\n",
       " '._x_spiders_1000pix_10.0cm_offset.fits',\n",
       " '._y_spiders_60deg_2000pix_10.0cm_offset.fits',\n",
       " '._y_spiders_90deg_2000pix_10.0cm_offset.fits',\n",
       " '._x_spiders_2000pix_10.0cm_offset.fits',\n",
       " '._keystone24_2000pix_offset.fits',\n",
       " '._offset_y_spiders_60deg_2000pix_10.0cm_offset.fits',\n",
       " '._offset_y_spiders_60deg_1000pix_2.5cm_offset.fits',\n",
       " '._piewedge8_2000pix_offset.fits',\n",
       " '._cross_spiders_2000pix_10.0cm_offset.fits',\n",
       " '._piewedge12_1000pix_offset.fits',\n",
       " '._x_spiders_1000pix_2.5cm_offset.fits',\n",
       " '._hex2_2000pix_offset.fits',\n",
       " '._y_spiders_90deg_1000pix_10.0cm_offset.fits',\n",
       " '._t_spiders_1000pix_2.5cm_offset.fits',\n",
       " '._y_spiders_90deg_1000pix_2.5cm_offset.fits',\n",
       " '._cross_spiders_1000pix_10.0cm_offset.fits',\n",
       " '._t_spiders_2000pix_10.0cm_offset.fits',\n",
       " '._x_spiders_2000pix_2.5cm_offset.fits',\n",
       " '._hex1_2000pix_offset.fits',\n",
       " '._cross_spiders_2000pix_2.5cm_offset.fits',\n",
       " '._offset_y_spiders_60deg_2000pix_2.5cm_offset.fits',\n",
       " '._piewedge12_2000pix_offset.fits',\n",
       " '._hex4_2000pix_offset.fits',\n",
       " '._hex1_1000pix_offset.fits',\n",
       " '._hex3_1000pix_offset.fits',\n",
       " '._hex3_2000pix_offset.fits',\n",
       " '._piewedge8_1000pix_offset.fits',\n",
       " '._keystone24_1000pix_offset.fits',\n",
       " '._hex4_1000pix_offset.fits',\n",
       " '._y_spiders_90deg_2000pix_2.5cm_offset.fits',\n",
       " 'hex1_1000pix_offset_no_central_obsc.fits',\n",
       " '._hex1_1000pix_offset_no_central_obsc.fits',\n",
       " 'hex1_2000pix_offset_no_central_obsc.fits',\n",
       " '._hex1_2000pix_offset_no_central_obsc.fits',\n",
       " 'hex2_1000pix_offset_no_central_obsc.fits',\n",
       " '._hex2_1000pix_offset_no_central_obsc.fits',\n",
       " 'hex2_2000pix_offset_no_central_obsc.fits',\n",
       " '._hex2_2000pix_offset_no_central_obsc.fits',\n",
       " 'hex3_1000pix_offset_no_central_obsc.fits',\n",
       " '._hex3_1000pix_offset_no_central_obsc.fits',\n",
       " 'hex3_2000pix_offset_no_central_obsc.fits',\n",
       " '._hex3_2000pix_offset_no_central_obsc.fits',\n",
       " 'hex4_1000pix_offset_no_central_obsc.fits',\n",
       " '._hex4_1000pix_offset_no_central_obsc.fits',\n",
       " 'hex4_2000pix_offset_no_central_obsc.fits',\n",
       " '._hex4_2000pix_offset_no_central_obsc.fits',\n",
       " 'keystone24_1000pix_offset_no_central_obsc.fits',\n",
       " '._keystone24_1000pix_offset_no_central_obsc.fits',\n",
       " 'keystone24_2000pix_offset_no_central_obsc.fits',\n",
       " '._keystone24_2000pix_offset_no_central_obsc.fits',\n",
       " 'piewedge12_1000pix_offset_no_central_obsc.fits',\n",
       " '._piewedge12_1000pix_offset_no_central_obsc.fits',\n",
       " 'piewedge12_2000pix_offset_no_central_obsc.fits',\n",
       " '._piewedge12_2000pix_offset_no_central_obsc.fits',\n",
       " 'piewedge8_1000pix_offset_no_central_obsc.fits',\n",
       " '._piewedge8_1000pix_offset_no_central_obsc.fits',\n",
       " 'piewedge8_2000pix_offset_no_central_obsc.fits',\n",
       " '._piewedge8_2000pix_offset_no_central_obsc.fits']"
      ]
     },
     "execution_count": 68,
     "metadata": {},
     "output_type": "execute_result"
    }
   ],
   "source": [
    "#telap_dir = os.path.abspath('../Apertures/JPL/offset_masks')\n",
    "telap_dir = os.path.abspath('/astro/opticslab1/SCDA/Apertures/JPL/offset_masks')\n",
    "print telap_dir\n",
    "print(\"Contents:\")\n",
    "os.listdir(telap_dir)"
   ]
  },
  {
   "cell_type": "markdown",
   "metadata": {},
   "source": [
    "## Set basic parameters"
   ]
  },
  {
   "cell_type": "code",
   "execution_count": 69,
   "metadata": {
    "collapsed": true
   },
   "outputs": [],
   "source": [
    "telap_key = \"hex4\"\n",
    "secobs_key = \"X\"\n",
    "centobs_key = True\n",
    "D = 2000\n",
    "N = 250 # quadrant width after binning"
   ]
  },
  {
   "cell_type": "markdown",
   "metadata": {},
   "source": [
    "## Load an aperture and a secondary obstruction, plot the product"
   ]
  },
  {
   "cell_type": "code",
   "execution_count": 70,
   "metadata": {
    "collapsed": false
   },
   "outputs": [
    {
     "data": {
      "text/plain": [
       "<matplotlib.image.AxesImage at 0x112bb0410>"
      ]
     },
     "execution_count": 70,
     "metadata": {},
     "output_type": "execute_result"
    },
    {
     "data": {
      "image/png": "[encoded data removed]",
      "text/plain": [
       "<matplotlib.figure.Figure at 0x1120b07d0>"
      ]
     },
     "metadata": {},
     "output_type": "display_data"
    }
   ],
   "source": [
    "if centobs_key is True:\n",
    "    telap_fname = os.path.join(telap_dir, \"{0:s}_{1:04d}pix_offset.fits\".format(telap_key_map[telap_key], D))\n",
    "    secobs_fname = os.path.join(telap_dir, \"{0:s}_spiders_{1:04d}pix_2.5cm_offset.fits\".format(\n",
    "                                           secobs_key_map[secobs_key], D))\n",
    "else:\n",
    "    telap_fname = os.path.join(telap_dir, \"{0:s}_{1:04d}pix_offset_no_central_obsc.fits\".format(telap_key_map[telap_key], D))\n",
    "    secobs_fname = os.path.join(telap_dir, \"{0:s}_spiders_{1:04d}pix_2.5cm_offset.fits\".format(\n",
    "                                           secobs_key_map[secobs_key], D))\n",
    "    \n",
    "telap_hdulist = fits.open(telap_fname, \"readonly\")\n",
    "telap_orig = telap_hdulist[0].data\n",
    "telap_hdulist.close()\n",
    "secobs_hdulist = fits.open(secobs_fname, \"readonly\")\n",
    "secobs = secobs_hdulist[0].data\n",
    "secobs_hdulist.close()\n",
    "telap_obs = telap_orig*secobs\n",
    "plt.figure(figsize=(10,10))\n",
    "#plt.imshow(telap_orig)\n",
    "plt.imshow(telap_obs)"
   ]
  },
  {
   "cell_type": "markdown",
   "metadata": {},
   "source": [
    "### Test the symmetry"
   ]
  },
  {
   "cell_type": "code",
   "execution_count": 71,
   "metadata": {
    "collapsed": false
   },
   "outputs": [
    {
     "name": "stdout",
     "output_type": "stream",
     "text": [
      "Max absolute left-right difference = 9.96289e-06\n",
      "Max absolute top-bottom difference = 2.3898e-05\n"
     ]
    }
   ],
   "source": [
    "L = telap_obs.shape[0]\n",
    "telap_left = telap_obs[:,:L/2] # left half\n",
    "telap_right = telap_obs[:,L/2:] # right half\n",
    "telap_top = telap_obs[L/2:,:] # left half\n",
    "telap_bot = telap_obs[:L/2,:] # right half\n",
    "leftright_diff = telap_left - telap_right[:,::-1]\n",
    "topbot_diff = telap_top - telap_bot[::-1,:]\n",
    "max_abs_leftright_diff = np.max(np.abs(leftright_diff))\n",
    "max_abs_topbot_diff = np.max(np.abs(topbot_diff))\n",
    "print('Max absolute left-right difference = {:g}'.format(max_abs_leftright_diff))\n",
    "print('Max absolute top-bottom difference = {:g}'.format(max_abs_topbot_diff))"
   ]
  },
  {
   "cell_type": "code",
   "execution_count": 72,
   "metadata": {
    "collapsed": false
   },
   "outputs": [],
   "source": [
    "#plt.figure(figsize=(10,6))\n",
    "#plt.subplot(121)\n",
    "#plt.imshow(leftright_diff)\n",
    "#plt.colorbar()\n",
    "#plt.subplot(122)\n",
    "#plt.imshow(topbot_diff.T)\n",
    "#plt.colorbar()"
   ]
  },
  {
   "cell_type": "markdown",
   "metadata": {},
   "source": [
    "## Bin to abritrary integer size, crop to quadrant"
   ]
  },
  {
   "cell_type": "code",
   "execution_count": 73,
   "metadata": {
    "collapsed": false
   },
   "outputs": [],
   "source": [
    "N_orig = 1000 # not 1024\n",
    "scalefac = float(N)/N_orig\n",
    "#telap_bin = scipy.ndimage.zoom(telap_obs, scalefac, order=1)\n",
    "telap_bin = skimage.transform.rescale(telap_obs, scalefac, order=1)\n",
    "L_bin = telap_bin.shape[0]"
   ]
  },
  {
   "cell_type": "code",
   "execution_count": 74,
   "metadata": {
    "collapsed": false
   },
   "outputs": [
    {
     "data": {
      "text/plain": [
       "(512, 512)"
      ]
     },
     "execution_count": 74,
     "metadata": {},
     "output_type": "execute_result"
    }
   ],
   "source": [
    "telap_bin.shape"
   ]
  },
  {
   "cell_type": "code",
   "execution_count": 75,
   "metadata": {
    "collapsed": false
   },
   "outputs": [
    {
     "name": "stdout",
     "output_type": "stream",
     "text": [
      "1.0\n",
      "0.0\n"
     ]
    }
   ],
   "source": [
    "telap_binquad = telap_bin[L_bin/2:L_bin/2+N, L_bin/2:L_bin/2+N]\n",
    "telap_binquad.shape\n",
    "# Check max value of outer row and outer column\n",
    "print np.max(telap_binquad[-1,:])\n",
    "print np.max(telap_binquad[:,-1])"
   ]
  },
  {
   "cell_type": "code",
   "execution_count": 76,
   "metadata": {
    "collapsed": false
   },
   "outputs": [
    {
     "data": {
      "text/plain": [
       "(-0.5, 249.5, -0.5, 249.5)"
      ]
     },
     "execution_count": 76,
     "metadata": {},
     "output_type": "execute_result"
    },
    {
     "data": {
      "image/png": "[encoded data removed]",
      "text/plain": [
       "<matplotlib.figure.Figure at 0x10ffc9990>"
      ]
     },
     "metadata": {},
     "output_type": "display_data"
    }
   ],
   "source": [
    "plt.figure(figsize=(16,16))\n",
    "plt.imshow(telap_binquad)\n",
    "#plt.imshow(np.floor(telap_binquad))\n",
    "#plt.imshow(telap_binquad.astype(int))\n",
    "plt.axis('off')"
   ]
  },
  {
   "cell_type": "markdown",
   "metadata": {},
   "source": [
    "### Form new FITS filename and write"
   ]
  },
  {
   "cell_type": "code",
   "execution_count": 77,
   "metadata": {
    "collapsed": false
   },
   "outputs": [
    {
     "name": "stdout",
     "output_type": "stream",
     "text": [
      "Destination /Users/ntz/SCDA/TelAP already exists\n"
     ]
    }
   ],
   "source": [
    "binned_telap_dir = os.path.abspath(\"../TelAP\")\n",
    "if not os.path.exists(binned_telap_dir):\n",
    "    os.mkdir(binned_telap_dir)\n",
    "    print(\"created {:s} for binned aperture arrays\".format(binned_telap_dir))\n",
    "else:\n",
    "    print(\"Destination {:s} already exists\".format(binned_telap_dir))"
   ]
  },
  {
   "cell_type": "code",
   "execution_count": 78,
   "metadata": {
    "collapsed": false
   },
   "outputs": [],
   "source": [
    "if centobs_key is True:\n",
    "    telap_binquad_dat_fname_tail = \"TelAp_quart_{0:s}_{1:s}025c1_N{2:04d}.dat\".format(telap_key, secobs_key, N)\n",
    "    telap_binquad_dat_fname = os.path.join(binned_telap_dir, telap_binquad_dat_fname_tail)\n",
    "else:\n",
    "    telap_binquad_dat_fname_tail = \"TelAp_quart_{0:s}_{1:s}025c0_N{2:04d}.dat\".format(telap_key, secobs_key, N)\n",
    "    telap_binquad_dat_fname = os.path.join(binned_telap_dir, telap_binquad_dat_fname_tail)\n",
    "\n",
    "#telap_binquad_fits_fname_tail = \"TelAp_quart_{0:s}_{1:s}025sm1_N{2:04d}.fits\".format(telap_key, secobs_key, N)\n",
    "#telap_binquad_fits_fname = os.path.join(binned_telap_dir, telap_binquad_fits_fname_tail)"
   ]
  },
  {
   "cell_type": "code",
   "execution_count": 79,
   "metadata": {
    "collapsed": false
   },
   "outputs": [],
   "source": [
    "#telap_binquad_hdu = fits.PrimaryHDU(telap_binquad)\n",
    "#telap_binquad_hdu.writeto(telap_binquad_fits_fname, clobber=True)"
   ]
  },
  {
   "cell_type": "code",
   "execution_count": 80,
   "metadata": {
    "collapsed": false
   },
   "outputs": [
    {
     "name": "stdout",
     "output_type": "stream",
     "text": [
      "Wrote binned, cropped telescope aperture array to /Users/ntz/SCDA/TelAP/TelAp_quart_hex4_X025c1_N0250.dat\n"
     ]
    }
   ],
   "source": [
    "np.savetxt(telap_binquad_dat_fname, telap_binquad, fmt='%.6f', delimiter=\" \")\n",
    "print(\"Wrote binned, cropped telescope aperture array to {0:s}\".format(telap_binquad_dat_fname))"
   ]
  },
  {
   "cell_type": "code",
   "execution_count": 81,
   "metadata": {
    "collapsed": false
   },
   "outputs": [
    {
     "data": {
      "text/plain": [
       "['TelAp_quart_hex4_X025c0_N0250.dat',\n",
       " 'TelAp_quart_hex4_X025c1_N0250.dat',\n",
       " 'TelAp_quart_hex4_X025sm1_N0250.dat']"
      ]
     },
     "execution_count": 81,
     "metadata": {},
     "output_type": "execute_result"
    }
   ],
   "source": [
    "os.listdir(binned_telap_dir)"
   ]
  },
  {
   "cell_type": "code",
   "execution_count": 82,
   "metadata": {
    "collapsed": true
   },
   "outputs": [],
   "source": [
    "#telap_load = np.loadtxt(telap_binquad_dat_fname)"
   ]
  },
  {
   "cell_type": "code",
   "execution_count": 83,
   "metadata": {
    "collapsed": false
   },
   "outputs": [],
   "source": [
    "#plt.figure(figsize=(16,16))\n",
    "#plt.imshow(np.floor(telap_load))"
   ]
  }
 ],
 "metadata": {
  "kernelspec": {
   "display_name": "Python 2",
   "language": "python",
   "name": "python2"
  },
  "language_info": {
   "codemirror_mode": {
    "name": "ipython",
    "version": 2
   },
   "file_extension": ".py",
   "mimetype": "text/x-python",
   "name": "python",
   "nbconvert_exporter": "python",
   "pygments_lexer": "ipython2",
   "version": "2.7.5"
  }
 },
 "nbformat": 4,
 "nbformat_minor": 0
}

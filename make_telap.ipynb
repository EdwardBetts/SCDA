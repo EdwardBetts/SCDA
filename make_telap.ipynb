{
 "cells": [
  {
   "cell_type": "code",
   "execution_count": null,
   "metadata": {
    "collapsed": false
   },
   "outputs": [],
   "source": [
    "import numpy as np\n",
    "import skimage.transform\n",
    "import astropy.io.fits as fits\n",
    "import matplotlib.pyplot as plt\n",
    "import os\n",
    "%pylab inline --no-import-all\n",
    "matplotlib.rcParams['image.origin'] = 'lower'\n",
    "matplotlib.rcParams['image.interpolation'] = 'nearest' \n",
    "matplotlib.rcParams['image.cmap'] = 'gray'"
   ]
  },
  {
   "cell_type": "markdown",
   "metadata": {},
   "source": [
    "## Dictionary to map file keys from STScI to Krist"
   ]
  },
  {
   "cell_type": "code",
   "execution_count": null,
   "metadata": {
    "collapsed": true
   },
   "outputs": [],
   "source": [
    "telap_key_map = {'hex1':'hex1', 'hex2':'hex2', 'hex3':'hex3', 'hex4':'hex4',\n",
    "                 'key24':'keystone24', 'pie08':'piewedge8', 'pie12':'piewedge12'}\n",
    "secobs_key_map = {'Cross':'cross', 'X':'x'}"
   ]
  },
  {
   "cell_type": "markdown",
   "metadata": {},
   "source": [
    "## set directory of telescope aperture and list contents"
   ]
  },
  {
   "cell_type": "code",
   "execution_count": null,
   "metadata": {
    "collapsed": false,
    "scrolled": true
   },
   "outputs": [],
   "source": [
    "telap_dir = os.path.abspath('../Apertures/JPL/offset_masks')\n",
    "#telap_dir = os.path.abspath('/astro/opticslab1/SCDA/Apertures/JPL/offset_masks')\n",
    "print telap_dir\n",
    "print(\"Contents:\")\n",
    "os.listdir(telap_dir)"
   ]
  },
  {
   "cell_type": "markdown",
   "metadata": {},
   "source": [
    "## Set basic parameters"
   ]
  },
  {
   "cell_type": "code",
   "execution_count": null,
   "metadata": {
    "collapsed": true
   },
   "outputs": [],
   "source": [
    "telap_key = \"hex4\"\n",
    "secobs_key = \"X\"\n",
    "D = 2000\n",
    "N = 300"
   ]
  },
  {
   "cell_type": "markdown",
   "metadata": {},
   "source": [
    "## Load an aperture and a secondary obstruction, plot the product"
   ]
  },
  {
   "cell_type": "code",
   "execution_count": null,
   "metadata": {
    "collapsed": false
   },
   "outputs": [],
   "source": [
    "telap_fname = os.path.join(telap_dir, \"{0:s}_{1:04d}pix_offset.fits\".format(telap_key_map[telap_key], D))\n",
    "secobs_fname = os.path.join(telap_dir, \"{0:s}_spiders_{1:04d}pix_2.5cm_offset.fits\".format(secobs_key_map[secobs_key],\n",
    "                                                                                           D))\n",
    "telap_hdulist = fits.open(telap_fname, \"readonly\")\n",
    "telap_orig = telap_hdulist[0].data\n",
    "telap_hdulist.close()\n",
    "secobs_hdulist = fits.open(secobs_fname, \"readonly\")\n",
    "secobs = secobs_hdulist[0].data\n",
    "secobs_hdulist.close()\n",
    "telap_obs = telap_orig*secobs\n",
    "plt.figure(figsize=(10,10))\n",
    "#plt.imshow(telap_orig)\n",
    "plt.imshow(telap_obs)"
   ]
  },
  {
   "cell_type": "markdown",
   "metadata": {},
   "source": [
    "### Test the symmetry"
   ]
  },
  {
   "cell_type": "code",
   "execution_count": null,
   "metadata": {
    "collapsed": false
   },
   "outputs": [],
   "source": [
    "L = telap_obs.shape[0]\n",
    "telap_left = telap_obs[:,:L/2] # left half\n",
    "telap_right = telap_obs[:,L/2:] # right half\n",
    "telap_top = telap_obs[L/2:,:] # left half\n",
    "telap_bot = telap_obs[:L/2,:] # right half\n",
    "leftright_diff = telap_left - telap_right[:,::-1]\n",
    "topbot_diff = telap_top - telap_bot[::-1,:]\n",
    "max_abs_leftright_diff = np.max(np.abs(leftright_diff))\n",
    "max_abs_topbot_diff = np.max(np.abs(topbot_diff))\n",
    "print('Max absolute left-right difference = {:g}'.format(max_abs_leftright_diff))\n",
    "print('Max absolute top-bottom difference = {:g}'.format(max_abs_topbot_diff))"
   ]
  },
  {
   "cell_type": "code",
   "execution_count": null,
   "metadata": {
    "collapsed": false
   },
   "outputs": [],
   "source": [
    "plt.figure(figsize=(10,6))\n",
    "plt.subplot(121)\n",
    "plt.imshow(leftright_diff)\n",
    "plt.colorbar()\n",
    "plt.subplot(122)\n",
    "plt.imshow(topbot_diff.T)\n",
    "plt.colorbar()"
   ]
  },
  {
   "cell_type": "markdown",
   "metadata": {},
   "source": [
    "## Bin to abritrary integer size, crop to quadrant"
   ]
  },
  {
   "cell_type": "code",
   "execution_count": null,
   "metadata": {
    "collapsed": false
   },
   "outputs": [],
   "source": [
    "N_orig = 1000 # not 1024\n",
    "scalefac = float(N)/N_orig\n",
    "telap_bin = scipy.ndimage.zoom(telap_obs, scalefac, order=1)\n",
    "telap_bin_new = skimage.transform.rescale(telap_obs, scalefac, order=1)\n",
    "L_bin = telap_bin.shape[0]"
   ]
  },
  {
   "cell_type": "code",
   "execution_count": null,
   "metadata": {
    "collapsed": false
   },
   "outputs": [],
   "source": [
    "telap_bin.shape"
   ]
  },
  {
   "cell_type": "code",
   "execution_count": null,
   "metadata": {
    "collapsed": false
   },
   "outputs": [],
   "source": [
    "telap_bin_new.shape"
   ]
  },
  {
   "cell_type": "code",
   "execution_count": null,
   "metadata": {
    "collapsed": false
   },
   "outputs": [],
   "source": [
    "telap_binquad = telap_bin[L_bin/2:L_bin/2+N, L_bin/2:L_bin/2+N]\n",
    "telap_binquad_new = telap_bin_new[L_bin/2:L_bin/2+N, L_bin/2:L_bin/2+N]\n",
    "telap_binquad.shape\n",
    "# Check max value of outer row and outer column\n",
    "print np.max(telap_binquad[-1,:])\n",
    "print np.max(telap_binquad[:,-1])\n",
    "#print np.max(telap_binquad-telap_binquad_new)\n",
    "print np.max(telap_binquad_new[-1,:])\n",
    "print np.max(telap_binquad_new[:,-1])"
   ]
  },
  {
   "cell_type": "code",
   "execution_count": null,
   "metadata": {
    "collapsed": false
   },
   "outputs": [],
   "source": [
    "plt.figure(figsize=(16,16))\n",
    "#plt.imshow(telap_binquad)\n",
    "plt.imshow(telap_binquad_new)\n",
    "#plt.imshow(telap_binquad-telap_binquad_new)\n",
    "#plt.imshow(np.floor(telap_binquad))\n",
    "#plt.imshow(telap_binquad.astype(int))\n",
    "plt.axis('off')"
   ]
  },
  {
   "cell_type": "markdown",
   "metadata": {},
   "source": [
    "### Form new FITS filename and write"
   ]
  },
  {
   "cell_type": "code",
   "execution_count": null,
   "metadata": {
    "collapsed": false
   },
   "outputs": [],
   "source": [
    "binned_telap_dir = os.path.abspath(\"../TelAP\")\n",
    "if not os.path.exists(binned_telap_dir):\n",
    "    os.mkdir(binned_telap_dir)\n",
    "    print(\"created {:s} for binned aperture arrays\".format(binned_telap_dir))\n",
    "else:\n",
    "    print(\"Destination {:s} already exists\".format(binned_telap_dir))"
   ]
  },
  {
   "cell_type": "code",
   "execution_count": null,
   "metadata": {
    "collapsed": false
   },
   "outputs": [],
   "source": [
    "#telap_fname_tail = os.path.basename(telap_fname)\n",
    "#print telap_fname_tail\n",
    "#telap_label = telap_fname_tail.split(\"_\")[0]\n",
    "#print telap_label\n",
    "#telap_label\n",
    "\n",
    "telap_binquad_dat_fname_tail = \"TelAp_quart_{0:s}_{1:s}025sm1_N{2:04d}.dat\".format(telap_key, secobs_key, N)\n",
    "telap_binquad_dat_fname = os.path.join(binned_telap_dir, telap_binquad_dat_fname_tail)\n",
    "telap_binquad_fits_fname_tail = \"TelAp_quart_{0:s}_{1:s}025sm1_N{2:04d}.fits\".format(telap_key, secobs_key, N)\n",
    "telap_binquad_fits_fname = os.path.join(binned_telap_dir, telap_binquad_fits_fname_tail)"
   ]
  },
  {
   "cell_type": "code",
   "execution_count": null,
   "metadata": {
    "collapsed": false
   },
   "outputs": [],
   "source": [
    "#telap_binquad_hdu = fits.PrimaryHDU(telap_binquad)\n",
    "#telap_binquad_hdu.writeto(telap_binquad_fits_fname, clobber=True)"
   ]
  },
  {
   "cell_type": "code",
   "execution_count": null,
   "metadata": {
    "collapsed": false
   },
   "outputs": [],
   "source": [
    "np.savetxt(telap_binquad_dat_fname, telap_binquad, fmt='%.6f', delimiter=\" \")\n",
    "print(\"Wrote binned, cropped telescope aperture array to {0:s}\".format(telap_binquad_dat_fname))"
   ]
  },
  {
   "cell_type": "code",
   "execution_count": null,
   "metadata": {
    "collapsed": false
   },
   "outputs": [],
   "source": [
    "os.listdir(binned_telap_dir)"
   ]
  },
  {
   "cell_type": "code",
   "execution_count": null,
   "metadata": {
    "collapsed": true
   },
   "outputs": [],
   "source": [
    "telap_load = np.loadtxt(telap_binquad_dat_fname)"
   ]
  },
  {
   "cell_type": "code",
   "execution_count": null,
   "metadata": {
    "collapsed": false
   },
   "outputs": [],
   "source": [
    "plt.figure(figsize=(16,16))\n",
    "plt.imshow(np.floor(telap_load))"
   ]
  },
  {
   "cell_type": "code",
   "execution_count": null,
   "metadata": {
    "collapsed": true
   },
   "outputs": [],
   "source": []
  }
 ],
 "metadata": {
  "kernelspec": {
   "display_name": "Python 2",
   "language": "python",
   "name": "python2"
  },
  "language_info": {
   "codemirror_mode": {
    "name": "ipython",
    "version": 2
   },
   "file_extension": ".py",
   "mimetype": "text/x-python",
   "name": "python",
   "nbconvert_exporter": "python",
   "pygments_lexer": "ipython2",
   "version": "2.7.5"
  }
 },
 "nbformat": 4,
 "nbformat_minor": 0
}
